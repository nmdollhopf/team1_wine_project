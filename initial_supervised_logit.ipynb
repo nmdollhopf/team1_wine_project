{
 "cells": [
  {
   "cell_type": "code",
   "execution_count": 1,
   "id": "331ceed6",
   "metadata": {},
   "outputs": [],
   "source": [
    "import pandas as pd\n",
    "import numpy as np\n",
    "from matplotlib import pyplot as plt\n",
    "from sklearn.linear_model import LogisticRegression\n",
    "from sklearn.model_selection import train_test_split\n",
    "from sklearn.preprocessing import StandardScaler\n",
    "from sklearn.metrics import classification_report, confusion_matrix"
   ]
  },
  {
   "cell_type": "code",
   "execution_count": 2,
   "id": "b6e29a9b",
   "metadata": {},
   "outputs": [
    {
     "data": {
      "text/html": [
       "<div>\n",
       "<style scoped>\n",
       "    .dataframe tbody tr th:only-of-type {\n",
       "        vertical-align: middle;\n",
       "    }\n",
       "\n",
       "    .dataframe tbody tr th {\n",
       "        vertical-align: top;\n",
       "    }\n",
       "\n",
       "    .dataframe thead th {\n",
       "        text-align: right;\n",
       "    }\n",
       "</style>\n",
       "<table border=\"1\" class=\"dataframe\">\n",
       "  <thead>\n",
       "    <tr style=\"text-align: right;\">\n",
       "      <th></th>\n",
       "      <th>fixed acidity</th>\n",
       "      <th>volatile acidity</th>\n",
       "      <th>citric acid</th>\n",
       "      <th>residual sugar</th>\n",
       "      <th>chlorides</th>\n",
       "      <th>free sulfur dioxide</th>\n",
       "      <th>total sulfur dioxide</th>\n",
       "      <th>density</th>\n",
       "      <th>pH</th>\n",
       "      <th>sulphates</th>\n",
       "      <th>alcohol</th>\n",
       "      <th>quality</th>\n",
       "    </tr>\n",
       "  </thead>\n",
       "  <tbody>\n",
       "    <tr>\n",
       "      <th>0</th>\n",
       "      <td>7.4</td>\n",
       "      <td>0.70</td>\n",
       "      <td>0.00</td>\n",
       "      <td>1.9</td>\n",
       "      <td>0.076</td>\n",
       "      <td>11.0</td>\n",
       "      <td>34.0</td>\n",
       "      <td>0.9978</td>\n",
       "      <td>3.51</td>\n",
       "      <td>0.56</td>\n",
       "      <td>9.4</td>\n",
       "      <td>5</td>\n",
       "    </tr>\n",
       "    <tr>\n",
       "      <th>1</th>\n",
       "      <td>7.8</td>\n",
       "      <td>0.88</td>\n",
       "      <td>0.00</td>\n",
       "      <td>2.6</td>\n",
       "      <td>0.098</td>\n",
       "      <td>25.0</td>\n",
       "      <td>67.0</td>\n",
       "      <td>0.9968</td>\n",
       "      <td>3.20</td>\n",
       "      <td>0.68</td>\n",
       "      <td>9.8</td>\n",
       "      <td>5</td>\n",
       "    </tr>\n",
       "    <tr>\n",
       "      <th>2</th>\n",
       "      <td>7.8</td>\n",
       "      <td>0.76</td>\n",
       "      <td>0.04</td>\n",
       "      <td>2.3</td>\n",
       "      <td>0.092</td>\n",
       "      <td>15.0</td>\n",
       "      <td>54.0</td>\n",
       "      <td>0.9970</td>\n",
       "      <td>3.26</td>\n",
       "      <td>0.65</td>\n",
       "      <td>9.8</td>\n",
       "      <td>5</td>\n",
       "    </tr>\n",
       "    <tr>\n",
       "      <th>3</th>\n",
       "      <td>11.2</td>\n",
       "      <td>0.28</td>\n",
       "      <td>0.56</td>\n",
       "      <td>1.9</td>\n",
       "      <td>0.075</td>\n",
       "      <td>17.0</td>\n",
       "      <td>60.0</td>\n",
       "      <td>0.9980</td>\n",
       "      <td>3.16</td>\n",
       "      <td>0.58</td>\n",
       "      <td>9.8</td>\n",
       "      <td>6</td>\n",
       "    </tr>\n",
       "    <tr>\n",
       "      <th>4</th>\n",
       "      <td>7.4</td>\n",
       "      <td>0.70</td>\n",
       "      <td>0.00</td>\n",
       "      <td>1.9</td>\n",
       "      <td>0.076</td>\n",
       "      <td>11.0</td>\n",
       "      <td>34.0</td>\n",
       "      <td>0.9978</td>\n",
       "      <td>3.51</td>\n",
       "      <td>0.56</td>\n",
       "      <td>9.4</td>\n",
       "      <td>5</td>\n",
       "    </tr>\n",
       "  </tbody>\n",
       "</table>\n",
       "</div>"
      ],
      "text/plain": [
       "   fixed acidity  volatile acidity  citric acid  residual sugar  chlorides  \\\n",
       "0            7.4              0.70         0.00             1.9      0.076   \n",
       "1            7.8              0.88         0.00             2.6      0.098   \n",
       "2            7.8              0.76         0.04             2.3      0.092   \n",
       "3           11.2              0.28         0.56             1.9      0.075   \n",
       "4            7.4              0.70         0.00             1.9      0.076   \n",
       "\n",
       "   free sulfur dioxide  total sulfur dioxide  density    pH  sulphates  \\\n",
       "0                 11.0                  34.0   0.9978  3.51       0.56   \n",
       "1                 25.0                  67.0   0.9968  3.20       0.68   \n",
       "2                 15.0                  54.0   0.9970  3.26       0.65   \n",
       "3                 17.0                  60.0   0.9980  3.16       0.58   \n",
       "4                 11.0                  34.0   0.9978  3.51       0.56   \n",
       "\n",
       "   alcohol  quality  \n",
       "0      9.4        5  \n",
       "1      9.8        5  \n",
       "2      9.8        5  \n",
       "3      9.8        6  \n",
       "4      9.4        5  "
      ]
     },
     "execution_count": 2,
     "metadata": {},
     "output_type": "execute_result"
    }
   ],
   "source": [
    "# import red wine csv\n",
    "reds = pd.read_csv(\"winequality-red.csv\", delimiter=';')\n",
    "reds.head()"
   ]
  },
  {
   "cell_type": "code",
   "execution_count": 3,
   "id": "662da66b",
   "metadata": {},
   "outputs": [
    {
     "data": {
      "text/plain": [
       "5    681\n",
       "6    638\n",
       "7    199\n",
       "4     53\n",
       "8     18\n",
       "3     10\n",
       "Name: quality, dtype: int64"
      ]
     },
     "execution_count": 3,
     "metadata": {},
     "output_type": "execute_result"
    }
   ],
   "source": [
    "reds['quality'].value_counts()"
   ]
  },
  {
   "cell_type": "code",
   "execution_count": 4,
   "id": "1f672b8f",
   "metadata": {},
   "outputs": [
    {
     "data": {
      "text/html": [
       "<div>\n",
       "<style scoped>\n",
       "    .dataframe tbody tr th:only-of-type {\n",
       "        vertical-align: middle;\n",
       "    }\n",
       "\n",
       "    .dataframe tbody tr th {\n",
       "        vertical-align: top;\n",
       "    }\n",
       "\n",
       "    .dataframe thead th {\n",
       "        text-align: right;\n",
       "    }\n",
       "</style>\n",
       "<table border=\"1\" class=\"dataframe\">\n",
       "  <thead>\n",
       "    <tr style=\"text-align: right;\">\n",
       "      <th></th>\n",
       "      <th>fixed acidity</th>\n",
       "      <th>volatile acidity</th>\n",
       "      <th>citric acid</th>\n",
       "      <th>residual sugar</th>\n",
       "      <th>chlorides</th>\n",
       "      <th>free sulfur dioxide</th>\n",
       "      <th>total sulfur dioxide</th>\n",
       "      <th>density</th>\n",
       "      <th>pH</th>\n",
       "      <th>sulphates</th>\n",
       "      <th>alcohol</th>\n",
       "      <th>quality</th>\n",
       "    </tr>\n",
       "  </thead>\n",
       "  <tbody>\n",
       "    <tr>\n",
       "      <th>0</th>\n",
       "      <td>7.0</td>\n",
       "      <td>0.27</td>\n",
       "      <td>0.36</td>\n",
       "      <td>20.7</td>\n",
       "      <td>0.045</td>\n",
       "      <td>45.0</td>\n",
       "      <td>170.0</td>\n",
       "      <td>1.0010</td>\n",
       "      <td>3.00</td>\n",
       "      <td>0.45</td>\n",
       "      <td>8.8</td>\n",
       "      <td>6</td>\n",
       "    </tr>\n",
       "    <tr>\n",
       "      <th>1</th>\n",
       "      <td>6.3</td>\n",
       "      <td>0.30</td>\n",
       "      <td>0.34</td>\n",
       "      <td>1.6</td>\n",
       "      <td>0.049</td>\n",
       "      <td>14.0</td>\n",
       "      <td>132.0</td>\n",
       "      <td>0.9940</td>\n",
       "      <td>3.30</td>\n",
       "      <td>0.49</td>\n",
       "      <td>9.5</td>\n",
       "      <td>6</td>\n",
       "    </tr>\n",
       "    <tr>\n",
       "      <th>2</th>\n",
       "      <td>8.1</td>\n",
       "      <td>0.28</td>\n",
       "      <td>0.40</td>\n",
       "      <td>6.9</td>\n",
       "      <td>0.050</td>\n",
       "      <td>30.0</td>\n",
       "      <td>97.0</td>\n",
       "      <td>0.9951</td>\n",
       "      <td>3.26</td>\n",
       "      <td>0.44</td>\n",
       "      <td>10.1</td>\n",
       "      <td>6</td>\n",
       "    </tr>\n",
       "    <tr>\n",
       "      <th>3</th>\n",
       "      <td>7.2</td>\n",
       "      <td>0.23</td>\n",
       "      <td>0.32</td>\n",
       "      <td>8.5</td>\n",
       "      <td>0.058</td>\n",
       "      <td>47.0</td>\n",
       "      <td>186.0</td>\n",
       "      <td>0.9956</td>\n",
       "      <td>3.19</td>\n",
       "      <td>0.40</td>\n",
       "      <td>9.9</td>\n",
       "      <td>6</td>\n",
       "    </tr>\n",
       "    <tr>\n",
       "      <th>4</th>\n",
       "      <td>7.2</td>\n",
       "      <td>0.23</td>\n",
       "      <td>0.32</td>\n",
       "      <td>8.5</td>\n",
       "      <td>0.058</td>\n",
       "      <td>47.0</td>\n",
       "      <td>186.0</td>\n",
       "      <td>0.9956</td>\n",
       "      <td>3.19</td>\n",
       "      <td>0.40</td>\n",
       "      <td>9.9</td>\n",
       "      <td>6</td>\n",
       "    </tr>\n",
       "  </tbody>\n",
       "</table>\n",
       "</div>"
      ],
      "text/plain": [
       "   fixed acidity  volatile acidity  citric acid  residual sugar  chlorides  \\\n",
       "0            7.0              0.27         0.36            20.7      0.045   \n",
       "1            6.3              0.30         0.34             1.6      0.049   \n",
       "2            8.1              0.28         0.40             6.9      0.050   \n",
       "3            7.2              0.23         0.32             8.5      0.058   \n",
       "4            7.2              0.23         0.32             8.5      0.058   \n",
       "\n",
       "   free sulfur dioxide  total sulfur dioxide  density    pH  sulphates  \\\n",
       "0                 45.0                 170.0   1.0010  3.00       0.45   \n",
       "1                 14.0                 132.0   0.9940  3.30       0.49   \n",
       "2                 30.0                  97.0   0.9951  3.26       0.44   \n",
       "3                 47.0                 186.0   0.9956  3.19       0.40   \n",
       "4                 47.0                 186.0   0.9956  3.19       0.40   \n",
       "\n",
       "   alcohol  quality  \n",
       "0      8.8        6  \n",
       "1      9.5        6  \n",
       "2     10.1        6  \n",
       "3      9.9        6  \n",
       "4      9.9        6  "
      ]
     },
     "execution_count": 4,
     "metadata": {},
     "output_type": "execute_result"
    }
   ],
   "source": [
    "whites = pd.read_csv(\"winequality-white.csv\", delimiter=';')\n",
    "whites.head()"
   ]
  },
  {
   "cell_type": "code",
   "execution_count": 5,
   "id": "ac7884fa",
   "metadata": {},
   "outputs": [
    {
     "data": {
      "text/plain": [
       "6    2198\n",
       "5    1457\n",
       "7     880\n",
       "8     175\n",
       "4     163\n",
       "3      20\n",
       "9       5\n",
       "Name: quality, dtype: int64"
      ]
     },
     "execution_count": 5,
     "metadata": {},
     "output_type": "execute_result"
    }
   ],
   "source": [
    "whites['quality'].value_counts()"
   ]
  },
  {
   "cell_type": "code",
   "execution_count": 6,
   "id": "bad4c0fb",
   "metadata": {
    "scrolled": true
   },
   "outputs": [
    {
     "name": "stdout",
     "output_type": "stream",
     "text": [
      "<class 'pandas.core.frame.DataFrame'>\n",
      "RangeIndex: 4898 entries, 0 to 4897\n",
      "Data columns (total 12 columns):\n",
      " #   Column                Non-Null Count  Dtype  \n",
      "---  ------                --------------  -----  \n",
      " 0   fixed acidity         4898 non-null   float64\n",
      " 1   volatile acidity      4898 non-null   float64\n",
      " 2   citric acid           4898 non-null   float64\n",
      " 3   residual sugar        4898 non-null   float64\n",
      " 4   chlorides             4898 non-null   float64\n",
      " 5   free sulfur dioxide   4898 non-null   float64\n",
      " 6   total sulfur dioxide  4898 non-null   float64\n",
      " 7   density               4898 non-null   float64\n",
      " 8   pH                    4898 non-null   float64\n",
      " 9   sulphates             4898 non-null   float64\n",
      " 10  alcohol               4898 non-null   float64\n",
      " 11  quality               4898 non-null   int64  \n",
      "dtypes: float64(11), int64(1)\n",
      "memory usage: 459.3 KB\n"
     ]
    },
    {
     "data": {
      "text/plain": [
       "None"
      ]
     },
     "metadata": {},
     "output_type": "display_data"
    },
    {
     "name": "stdout",
     "output_type": "stream",
     "text": [
      "<class 'pandas.core.frame.DataFrame'>\n",
      "RangeIndex: 4898 entries, 0 to 4897\n",
      "Data columns (total 12 columns):\n",
      " #   Column                Non-Null Count  Dtype  \n",
      "---  ------                --------------  -----  \n",
      " 0   fixed acidity         4898 non-null   float64\n",
      " 1   volatile acidity      4898 non-null   float64\n",
      " 2   citric acid           4898 non-null   float64\n",
      " 3   residual sugar        4898 non-null   float64\n",
      " 4   chlorides             4898 non-null   float64\n",
      " 5   free sulfur dioxide   4898 non-null   float64\n",
      " 6   total sulfur dioxide  4898 non-null   float64\n",
      " 7   density               4898 non-null   float64\n",
      " 8   pH                    4898 non-null   float64\n",
      " 9   sulphates             4898 non-null   float64\n",
      " 10  alcohol               4898 non-null   float64\n",
      " 11  quality               4898 non-null   object \n",
      "dtypes: float64(11), object(1)\n",
      "memory usage: 459.3+ KB\n"
     ]
    }
   ],
   "source": [
    "display(whites.info())\n",
    "\n",
    "whites = whites.astype({'quality':str})\n",
    "\n",
    "whites.info()"
   ]
  },
  {
   "cell_type": "code",
   "execution_count": 7,
   "id": "4ad36bd4",
   "metadata": {},
   "outputs": [],
   "source": [
    "# unbalanced outcomes, combine 3+4 and 8+9\n",
    "\n",
    "# test if it works\n",
    "#whites['quality'].replace(to_replace=['3', '4', '8', '9'], value=['3-4', '3-4', '8-9', '8-9']).value_counts()\n",
    "\n",
    "# replace\n",
    "whites['quality'] = whites['quality'].replace(to_replace=['3', '4', '8', '9'], value=['3-4', '3-4', '8-9', '8-9'])"
   ]
  },
  {
   "cell_type": "code",
   "execution_count": 8,
   "id": "56adef3c",
   "metadata": {},
   "outputs": [
    {
     "data": {
      "text/plain": [
       "6      2198\n",
       "5      1457\n",
       "7       880\n",
       "3-4     183\n",
       "8-9     180\n",
       "Name: quality, dtype: int64"
      ]
     },
     "execution_count": 8,
     "metadata": {},
     "output_type": "execute_result"
    }
   ],
   "source": [
    "# test it worked\n",
    "whites['quality'].value_counts()\n",
    "# it does, good"
   ]
  },
  {
   "cell_type": "code",
   "execution_count": 9,
   "id": "fc2e18aa",
   "metadata": {},
   "outputs": [
    {
     "data": {
      "text/plain": [
       "array([[ 7.  ,  0.27,  0.36, ...,  3.  ,  0.45,  8.8 ],\n",
       "       [ 6.3 ,  0.3 ,  0.34, ...,  3.3 ,  0.49,  9.5 ],\n",
       "       [ 8.1 ,  0.28,  0.4 , ...,  3.26,  0.44, 10.1 ],\n",
       "       ...,\n",
       "       [ 6.5 ,  0.24,  0.19, ...,  2.99,  0.46,  9.4 ],\n",
       "       [ 5.5 ,  0.29,  0.3 , ...,  3.34,  0.38, 12.8 ],\n",
       "       [ 6.  ,  0.21,  0.38, ...,  3.26,  0.32, 11.8 ]])"
      ]
     },
     "metadata": {},
     "output_type": "display_data"
    },
    {
     "data": {
      "text/plain": [
       "array(['6', '6', '6', ..., '6', '7', '6'], dtype=object)"
      ]
     },
     "metadata": {},
     "output_type": "display_data"
    }
   ],
   "source": [
    "# split features and targets\n",
    "\n",
    "Xwhites_unscaled = whites.drop(columns=['quality']).values\n",
    "ywhites = whites['quality'].values\n",
    "\n",
    "display(Xwhites_unscaled)\n",
    "display(ywhites)"
   ]
  },
  {
   "cell_type": "code",
   "execution_count": 10,
   "id": "04d74274",
   "metadata": {},
   "outputs": [],
   "source": [
    "# split into training and testing data\n",
    "# default 75%-25%\n",
    "# stratify the ywhites column so we don't end up with all '8-9' in the testing data, for example\n",
    "\n",
    "Xwhites_tr_unscaled, Xwhites_tes_unscaled, ywhites_tr, ywhites_tes = \\\n",
    "                train_test_split(Xwhites_unscaled, ywhites, stratify=ywhites, random_state=23)"
   ]
  },
  {
   "cell_type": "code",
   "execution_count": 11,
   "id": "6cf25aa9",
   "metadata": {
    "scrolled": true
   },
   "outputs": [
    {
     "name": "stdout",
     "output_type": "stream",
     "text": [
      "<class 'pandas.core.frame.DataFrame'>\n",
      "RangeIndex: 3673 entries, 0 to 3672\n",
      "Data columns (total 11 columns):\n",
      " #   Column  Non-Null Count  Dtype  \n",
      "---  ------  --------------  -----  \n",
      " 0   0       3673 non-null   float64\n",
      " 1   1       3673 non-null   float64\n",
      " 2   2       3673 non-null   float64\n",
      " 3   3       3673 non-null   float64\n",
      " 4   4       3673 non-null   float64\n",
      " 5   5       3673 non-null   float64\n",
      " 6   6       3673 non-null   float64\n",
      " 7   7       3673 non-null   float64\n",
      " 8   8       3673 non-null   float64\n",
      " 9   9       3673 non-null   float64\n",
      " 10  10      3673 non-null   float64\n",
      "dtypes: float64(11)\n",
      "memory usage: 315.8 KB\n"
     ]
    },
    {
     "data": {
      "text/plain": [
       "None"
      ]
     },
     "metadata": {},
     "output_type": "display_data"
    },
    {
     "name": "stdout",
     "output_type": "stream",
     "text": [
      "<class 'pandas.core.frame.DataFrame'>\n",
      "RangeIndex: 1225 entries, 0 to 1224\n",
      "Data columns (total 11 columns):\n",
      " #   Column  Non-Null Count  Dtype  \n",
      "---  ------  --------------  -----  \n",
      " 0   0       1225 non-null   float64\n",
      " 1   1       1225 non-null   float64\n",
      " 2   2       1225 non-null   float64\n",
      " 3   3       1225 non-null   float64\n",
      " 4   4       1225 non-null   float64\n",
      " 5   5       1225 non-null   float64\n",
      " 6   6       1225 non-null   float64\n",
      " 7   7       1225 non-null   float64\n",
      " 8   8       1225 non-null   float64\n",
      " 9   9       1225 non-null   float64\n",
      " 10  10      1225 non-null   float64\n",
      "dtypes: float64(11)\n",
      "memory usage: 105.4 KB\n"
     ]
    },
    {
     "data": {
      "text/plain": [
       "None"
      ]
     },
     "metadata": {},
     "output_type": "display_data"
    },
    {
     "name": "stdout",
     "output_type": "stream",
     "text": [
      "<class 'pandas.core.frame.DataFrame'>\n",
      "RangeIndex: 3673 entries, 0 to 3672\n",
      "Data columns (total 1 columns):\n",
      " #   Column  Non-Null Count  Dtype \n",
      "---  ------  --------------  ----- \n",
      " 0   0       3673 non-null   object\n",
      "dtypes: object(1)\n",
      "memory usage: 28.8+ KB\n"
     ]
    },
    {
     "data": {
      "text/plain": [
       "None"
      ]
     },
     "metadata": {},
     "output_type": "display_data"
    },
    {
     "name": "stdout",
     "output_type": "stream",
     "text": [
      "<class 'pandas.core.frame.DataFrame'>\n",
      "RangeIndex: 1225 entries, 0 to 1224\n",
      "Data columns (total 1 columns):\n",
      " #   Column  Non-Null Count  Dtype \n",
      "---  ------  --------------  ----- \n",
      " 0   0       1225 non-null   object\n",
      "dtypes: object(1)\n",
      "memory usage: 9.7+ KB\n"
     ]
    },
    {
     "data": {
      "text/plain": [
       "None"
      ]
     },
     "metadata": {},
     "output_type": "display_data"
    }
   ],
   "source": [
    "display(pd.DataFrame(data=Xwhites_tr_unscaled).info())\n",
    "display(pd.DataFrame(data=Xwhites_tes_unscaled).info())\n",
    "display(pd.DataFrame(data=ywhites_tr).info())\n",
    "display(pd.DataFrame(data=ywhites_tes).info())"
   ]
  },
  {
   "cell_type": "code",
   "execution_count": 12,
   "id": "080a09ec",
   "metadata": {},
   "outputs": [
    {
     "data": {
      "text/plain": [
       "0.749897917517354"
      ]
     },
     "execution_count": 12,
     "metadata": {},
     "output_type": "execute_result"
    }
   ],
   "source": [
    "# math for above\n",
    "3673/(3673+1225)\n",
    "# basically 75%"
   ]
  },
  {
   "cell_type": "code",
   "execution_count": 13,
   "id": "45d806de",
   "metadata": {
    "scrolled": true
   },
   "outputs": [
    {
     "data": {
      "text/plain": [
       "6      1648\n",
       "5      1093\n",
       "7       660\n",
       "3-4     137\n",
       "8-9     135\n",
       "dtype: int64"
      ]
     },
     "metadata": {},
     "output_type": "display_data"
    },
    {
     "data": {
      "text/plain": [
       "6      550\n",
       "5      364\n",
       "7      220\n",
       "3-4     46\n",
       "8-9     45\n",
       "dtype: int64"
      ]
     },
     "metadata": {},
     "output_type": "display_data"
    }
   ],
   "source": [
    "display(pd.DataFrame(data=ywhites_tr).value_counts())\n",
    "display(pd.DataFrame(data=ywhites_tes).value_counts())"
   ]
  },
  {
   "cell_type": "code",
   "execution_count": 14,
   "id": "ef5e2b97",
   "metadata": {},
   "outputs": [
    {
     "data": {
      "text/plain": [
       "(0.2502274795268426, 0.24982841455044613, 0.25136612021857924, 0.25)"
      ]
     },
     "execution_count": 14,
     "metadata": {},
     "output_type": "execute_result"
    }
   ],
   "source": [
    "# math for above\n",
    "550/(550+1648), 364/(364+1093), 46/(46+137), 45/(45+135)\n",
    "# stratified on 4 of 5 columns, assume 5th is fine"
   ]
  },
  {
   "cell_type": "code",
   "execution_count": 15,
   "id": "7537087d",
   "metadata": {},
   "outputs": [],
   "source": [
    "# now scale using StandardScaler (lesson learned from unsupervised clustering)\n",
    "\n",
    "whitesScaler = StandardScaler()\n",
    "\n",
    "# fit to training data\n",
    "whitesScaler.fit(Xwhites_tr_unscaled)\n",
    "\n",
    "# transform training and testing data\n",
    "Xwhites_tr_scaled = whitesScaler.transform(Xwhites_tr_unscaled)\n",
    "Xwhites_tes_scaled = whitesScaler.transform(Xwhites_tes_unscaled)"
   ]
  },
  {
   "cell_type": "code",
   "execution_count": 16,
   "id": "70bce170",
   "metadata": {},
   "outputs": [
    {
     "data": {
      "text/html": [
       "<div>\n",
       "<style scoped>\n",
       "    .dataframe tbody tr th:only-of-type {\n",
       "        vertical-align: middle;\n",
       "    }\n",
       "\n",
       "    .dataframe tbody tr th {\n",
       "        vertical-align: top;\n",
       "    }\n",
       "\n",
       "    .dataframe thead th {\n",
       "        text-align: right;\n",
       "    }\n",
       "</style>\n",
       "<table border=\"1\" class=\"dataframe\">\n",
       "  <thead>\n",
       "    <tr style=\"text-align: right;\">\n",
       "      <th></th>\n",
       "      <th>0</th>\n",
       "      <th>1</th>\n",
       "      <th>2</th>\n",
       "      <th>3</th>\n",
       "      <th>4</th>\n",
       "      <th>5</th>\n",
       "      <th>6</th>\n",
       "      <th>7</th>\n",
       "      <th>8</th>\n",
       "      <th>9</th>\n",
       "      <th>10</th>\n",
       "    </tr>\n",
       "  </thead>\n",
       "  <tbody>\n",
       "    <tr>\n",
       "      <th>count</th>\n",
       "      <td>3.673000e+03</td>\n",
       "      <td>3.673000e+03</td>\n",
       "      <td>3.673000e+03</td>\n",
       "      <td>3.673000e+03</td>\n",
       "      <td>3.673000e+03</td>\n",
       "      <td>3.673000e+03</td>\n",
       "      <td>3.673000e+03</td>\n",
       "      <td>3.673000e+03</td>\n",
       "      <td>3.673000e+03</td>\n",
       "      <td>3.673000e+03</td>\n",
       "      <td>3.673000e+03</td>\n",
       "    </tr>\n",
       "    <tr>\n",
       "      <th>mean</th>\n",
       "      <td>1.999272e-14</td>\n",
       "      <td>-4.923777e-15</td>\n",
       "      <td>2.705535e-14</td>\n",
       "      <td>2.072124e-15</td>\n",
       "      <td>-1.040650e-14</td>\n",
       "      <td>-1.864981e-16</td>\n",
       "      <td>-1.874824e-16</td>\n",
       "      <td>1.132526e-12</td>\n",
       "      <td>4.671344e-14</td>\n",
       "      <td>-4.120369e-14</td>\n",
       "      <td>-3.339042e-14</td>\n",
       "    </tr>\n",
       "    <tr>\n",
       "      <th>std</th>\n",
       "      <td>1.000136e+00</td>\n",
       "      <td>1.000136e+00</td>\n",
       "      <td>1.000136e+00</td>\n",
       "      <td>1.000136e+00</td>\n",
       "      <td>1.000136e+00</td>\n",
       "      <td>1.000136e+00</td>\n",
       "      <td>1.000136e+00</td>\n",
       "      <td>1.000136e+00</td>\n",
       "      <td>1.000136e+00</td>\n",
       "      <td>1.000136e+00</td>\n",
       "      <td>1.000136e+00</td>\n",
       "    </tr>\n",
       "    <tr>\n",
       "      <th>min</th>\n",
       "      <td>-3.158749e+00</td>\n",
       "      <td>-1.950526e+00</td>\n",
       "      <td>-2.735752e+00</td>\n",
       "      <td>-1.143271e+00</td>\n",
       "      <td>-1.630478e+00</td>\n",
       "      <td>-2.007653e+00</td>\n",
       "      <td>-3.065887e+00</td>\n",
       "      <td>-2.296400e+00</td>\n",
       "      <td>-2.801268e+00</td>\n",
       "      <td>-2.340446e+00</td>\n",
       "      <td>-2.037223e+00</td>\n",
       "    </tr>\n",
       "    <tr>\n",
       "      <th>25%</th>\n",
       "      <td>-6.571956e-01</td>\n",
       "      <td>-6.773545e-01</td>\n",
       "      <td>-5.224262e-01</td>\n",
       "      <td>-9.278436e-01</td>\n",
       "      <td>-4.360557e-01</td>\n",
       "      <td>-7.445202e-01</td>\n",
       "      <td>-7.208638e-01</td>\n",
       "      <td>-7.734020e-01</td>\n",
       "      <td>-7.169793e-01</td>\n",
       "      <td>-6.864942e-01</td>\n",
       "      <td>-8.240425e-01</td>\n",
       "    </tr>\n",
       "    <tr>\n",
       "      <th>50%</th>\n",
       "      <td>-6.158777e-02</td>\n",
       "      <td>-1.876733e-01</td>\n",
       "      <td>-1.945261e-01</td>\n",
       "      <td>-2.423935e-01</td>\n",
       "      <td>-1.263905e-01</td>\n",
       "      <td>-8.287912e-02</td>\n",
       "      <td>-1.049991e-01</td>\n",
       "      <td>-8.324192e-02</td>\n",
       "      <td>-4.462816e-02</td>\n",
       "      <td>-1.641936e-01</td>\n",
       "      <td>-9.613403e-02</td>\n",
       "    </tr>\n",
       "    <tr>\n",
       "      <th>75%</th>\n",
       "      <td>5.340201e-01</td>\n",
       "      <td>3.999441e-01</td>\n",
       "      <td>3.792991e-01</td>\n",
       "      <td>6.976522e-01</td>\n",
       "      <td>1.832747e-01</td>\n",
       "      <td>6.389111e-01</td>\n",
       "      <td>6.766754e-01</td>\n",
       "      <td>7.064605e-01</td>\n",
       "      <td>6.277230e-01</td>\n",
       "      <td>5.322072e-01</td>\n",
       "      <td>7.126531e-01</td>\n",
       "    </tr>\n",
       "    <tr>\n",
       "      <th>max</th>\n",
       "      <td>8.753409e+00</td>\n",
       "      <td>8.038970e+00</td>\n",
       "      <td>1.087210e+01</td>\n",
       "      <td>1.162568e+01</td>\n",
       "      <td>1.327769e+01</td>\n",
       "      <td>6.683904e+00</td>\n",
       "      <td>5.402253e+00</td>\n",
       "      <td>1.491447e+01</td>\n",
       "      <td>4.123949e+00</td>\n",
       "      <td>5.145863e+00</td>\n",
       "      <td>2.977257e+00</td>\n",
       "    </tr>\n",
       "  </tbody>\n",
       "</table>\n",
       "</div>"
      ],
      "text/plain": [
       "                 0             1             2             3             4   \\\n",
       "count  3.673000e+03  3.673000e+03  3.673000e+03  3.673000e+03  3.673000e+03   \n",
       "mean   1.999272e-14 -4.923777e-15  2.705535e-14  2.072124e-15 -1.040650e-14   \n",
       "std    1.000136e+00  1.000136e+00  1.000136e+00  1.000136e+00  1.000136e+00   \n",
       "min   -3.158749e+00 -1.950526e+00 -2.735752e+00 -1.143271e+00 -1.630478e+00   \n",
       "25%   -6.571956e-01 -6.773545e-01 -5.224262e-01 -9.278436e-01 -4.360557e-01   \n",
       "50%   -6.158777e-02 -1.876733e-01 -1.945261e-01 -2.423935e-01 -1.263905e-01   \n",
       "75%    5.340201e-01  3.999441e-01  3.792991e-01  6.976522e-01  1.832747e-01   \n",
       "max    8.753409e+00  8.038970e+00  1.087210e+01  1.162568e+01  1.327769e+01   \n",
       "\n",
       "                 5             6             7             8             9   \\\n",
       "count  3.673000e+03  3.673000e+03  3.673000e+03  3.673000e+03  3.673000e+03   \n",
       "mean  -1.864981e-16 -1.874824e-16  1.132526e-12  4.671344e-14 -4.120369e-14   \n",
       "std    1.000136e+00  1.000136e+00  1.000136e+00  1.000136e+00  1.000136e+00   \n",
       "min   -2.007653e+00 -3.065887e+00 -2.296400e+00 -2.801268e+00 -2.340446e+00   \n",
       "25%   -7.445202e-01 -7.208638e-01 -7.734020e-01 -7.169793e-01 -6.864942e-01   \n",
       "50%   -8.287912e-02 -1.049991e-01 -8.324192e-02 -4.462816e-02 -1.641936e-01   \n",
       "75%    6.389111e-01  6.766754e-01  7.064605e-01  6.277230e-01  5.322072e-01   \n",
       "max    6.683904e+00  5.402253e+00  1.491447e+01  4.123949e+00  5.145863e+00   \n",
       "\n",
       "                 10  \n",
       "count  3.673000e+03  \n",
       "mean  -3.339042e-14  \n",
       "std    1.000136e+00  \n",
       "min   -2.037223e+00  \n",
       "25%   -8.240425e-01  \n",
       "50%   -9.613403e-02  \n",
       "75%    7.126531e-01  \n",
       "max    2.977257e+00  "
      ]
     },
     "metadata": {},
     "output_type": "display_data"
    },
    {
     "data": {
      "text/html": [
       "<div>\n",
       "<style scoped>\n",
       "    .dataframe tbody tr th:only-of-type {\n",
       "        vertical-align: middle;\n",
       "    }\n",
       "\n",
       "    .dataframe tbody tr th {\n",
       "        vertical-align: top;\n",
       "    }\n",
       "\n",
       "    .dataframe thead th {\n",
       "        text-align: right;\n",
       "    }\n",
       "</style>\n",
       "<table border=\"1\" class=\"dataframe\">\n",
       "  <thead>\n",
       "    <tr style=\"text-align: right;\">\n",
       "      <th></th>\n",
       "      <th>0</th>\n",
       "      <th>1</th>\n",
       "      <th>2</th>\n",
       "      <th>3</th>\n",
       "      <th>4</th>\n",
       "      <th>5</th>\n",
       "      <th>6</th>\n",
       "      <th>7</th>\n",
       "      <th>8</th>\n",
       "      <th>9</th>\n",
       "      <th>10</th>\n",
       "    </tr>\n",
       "  </thead>\n",
       "  <tbody>\n",
       "    <tr>\n",
       "      <th>count</th>\n",
       "      <td>1225.000000</td>\n",
       "      <td>1225.000000</td>\n",
       "      <td>1225.000000</td>\n",
       "      <td>1225.000000</td>\n",
       "      <td>1225.000000</td>\n",
       "      <td>1225.000000</td>\n",
       "      <td>1225.000000</td>\n",
       "      <td>1225.000000</td>\n",
       "      <td>1225.000000</td>\n",
       "      <td>1225.000000</td>\n",
       "      <td>1225.000000</td>\n",
       "    </tr>\n",
       "    <tr>\n",
       "      <th>mean</th>\n",
       "      <td>0.014699</td>\n",
       "      <td>-0.036092</td>\n",
       "      <td>0.015129</td>\n",
       "      <td>-0.036239</td>\n",
       "      <td>-0.014983</td>\n",
       "      <td>-0.016789</td>\n",
       "      <td>-0.006828</td>\n",
       "      <td>-0.004640</td>\n",
       "      <td>0.043793</td>\n",
       "      <td>0.034281</td>\n",
       "      <td>-0.014859</td>\n",
       "    </tr>\n",
       "    <tr>\n",
       "      <th>std</th>\n",
       "      <td>1.020680</td>\n",
       "      <td>0.947002</td>\n",
       "      <td>0.967755</td>\n",
       "      <td>0.972519</td>\n",
       "      <td>0.858095</td>\n",
       "      <td>1.088880</td>\n",
       "      <td>1.026354</td>\n",
       "      <td>0.969253</td>\n",
       "      <td>1.059033</td>\n",
       "      <td>0.973145</td>\n",
       "      <td>0.981018</td>\n",
       "    </tr>\n",
       "    <tr>\n",
       "      <th>min</th>\n",
       "      <td>-3.635235</td>\n",
       "      <td>-1.950526</td>\n",
       "      <td>-2.735752</td>\n",
       "      <td>-1.104102</td>\n",
       "      <td>-1.409289</td>\n",
       "      <td>-1.947504</td>\n",
       "      <td>-2.852703</td>\n",
       "      <td>-2.289763</td>\n",
       "      <td>-3.137444</td>\n",
       "      <td>-1.905196</td>\n",
       "      <td>-1.713708</td>\n",
       "    </tr>\n",
       "    <tr>\n",
       "      <th>25%</th>\n",
       "      <td>-0.657196</td>\n",
       "      <td>-0.677355</td>\n",
       "      <td>-0.604401</td>\n",
       "      <td>-0.927844</td>\n",
       "      <td>-0.436056</td>\n",
       "      <td>-0.744520</td>\n",
       "      <td>-0.720864</td>\n",
       "      <td>-0.740221</td>\n",
       "      <td>-0.649744</td>\n",
       "      <td>-0.599444</td>\n",
       "      <td>-0.824042</td>\n",
       "    </tr>\n",
       "    <tr>\n",
       "      <th>50%</th>\n",
       "      <td>-0.061588</td>\n",
       "      <td>-0.187673</td>\n",
       "      <td>-0.112551</td>\n",
       "      <td>-0.281562</td>\n",
       "      <td>-0.126390</td>\n",
       "      <td>-0.082879</td>\n",
       "      <td>-0.128686</td>\n",
       "      <td>-0.109787</td>\n",
       "      <td>-0.044628</td>\n",
       "      <td>-0.077144</td>\n",
       "      <td>-0.177013</td>\n",
       "    </tr>\n",
       "    <tr>\n",
       "      <th>75%</th>\n",
       "      <td>0.534020</td>\n",
       "      <td>0.399944</td>\n",
       "      <td>0.461274</td>\n",
       "      <td>0.560562</td>\n",
       "      <td>0.183275</td>\n",
       "      <td>0.578762</td>\n",
       "      <td>0.700362</td>\n",
       "      <td>0.626827</td>\n",
       "      <td>0.694958</td>\n",
       "      <td>0.532207</td>\n",
       "      <td>0.712653</td>\n",
       "    </tr>\n",
       "    <tr>\n",
       "      <th>max</th>\n",
       "      <td>5.894491</td>\n",
       "      <td>4.953979</td>\n",
       "      <td>5.461751</td>\n",
       "      <td>4.927858</td>\n",
       "      <td>8.588472</td>\n",
       "      <td>15.255163</td>\n",
       "      <td>7.143255</td>\n",
       "      <td>5.398222</td>\n",
       "      <td>4.258419</td>\n",
       "      <td>4.275362</td>\n",
       "      <td>2.815500</td>\n",
       "    </tr>\n",
       "  </tbody>\n",
       "</table>\n",
       "</div>"
      ],
      "text/plain": [
       "                0            1            2            3            4   \\\n",
       "count  1225.000000  1225.000000  1225.000000  1225.000000  1225.000000   \n",
       "mean      0.014699    -0.036092     0.015129    -0.036239    -0.014983   \n",
       "std       1.020680     0.947002     0.967755     0.972519     0.858095   \n",
       "min      -3.635235    -1.950526    -2.735752    -1.104102    -1.409289   \n",
       "25%      -0.657196    -0.677355    -0.604401    -0.927844    -0.436056   \n",
       "50%      -0.061588    -0.187673    -0.112551    -0.281562    -0.126390   \n",
       "75%       0.534020     0.399944     0.461274     0.560562     0.183275   \n",
       "max       5.894491     4.953979     5.461751     4.927858     8.588472   \n",
       "\n",
       "                5            6            7            8            9   \\\n",
       "count  1225.000000  1225.000000  1225.000000  1225.000000  1225.000000   \n",
       "mean     -0.016789    -0.006828    -0.004640     0.043793     0.034281   \n",
       "std       1.088880     1.026354     0.969253     1.059033     0.973145   \n",
       "min      -1.947504    -2.852703    -2.289763    -3.137444    -1.905196   \n",
       "25%      -0.744520    -0.720864    -0.740221    -0.649744    -0.599444   \n",
       "50%      -0.082879    -0.128686    -0.109787    -0.044628    -0.077144   \n",
       "75%       0.578762     0.700362     0.626827     0.694958     0.532207   \n",
       "max      15.255163     7.143255     5.398222     4.258419     4.275362   \n",
       "\n",
       "                10  \n",
       "count  1225.000000  \n",
       "mean     -0.014859  \n",
       "std       0.981018  \n",
       "min      -1.713708  \n",
       "25%      -0.824042  \n",
       "50%      -0.177013  \n",
       "75%       0.712653  \n",
       "max       2.815500  "
      ]
     },
     "metadata": {},
     "output_type": "display_data"
    }
   ],
   "source": [
    "# check scaling worked\n",
    "display(pd.DataFrame(data=Xwhites_tr_scaled).describe())\n",
    "display(pd.DataFrame(data=Xwhites_tes_scaled).describe())\n",
    "\n",
    "# means 0, stds 1. worked\n",
    "# didn't check the test data scaled well. investigate below"
   ]
  },
  {
   "cell_type": "code",
   "execution_count": 17,
   "id": "06719f67",
   "metadata": {},
   "outputs": [
    {
     "data": {
      "text/plain": [
       "LogisticRegression(multi_class='multinomial', random_state=23)"
      ]
     },
     "execution_count": 17,
     "metadata": {},
     "output_type": "execute_result"
    }
   ],
   "source": [
    "# logistic regression\n",
    "# instantiate model\n",
    "# use random_state=23\n",
    "# multi_class = 'multinomial' for multiple target classes\n",
    "# solver='lbfgs' (default anyway)\n",
    "\n",
    "whitesLogit = LogisticRegression(solver='lbfgs', multi_class='multinomial', random_state=23)\n",
    "\n",
    "# fit the logit model to training data\n",
    "whitesLogit.fit(Xwhites_tr_scaled, ywhites_tr)"
   ]
  },
  {
   "cell_type": "code",
   "execution_count": 18,
   "id": "25c81310",
   "metadata": {},
   "outputs": [
    {
     "data": {
      "text/plain": [
       "0.5505036754696433"
      ]
     },
     "metadata": {},
     "output_type": "display_data"
    },
    {
     "data": {
      "text/plain": [
       "0.5306122448979592"
      ]
     },
     "metadata": {},
     "output_type": "display_data"
    }
   ],
   "source": [
    "# should be able to score without predicting\n",
    "display(whitesLogit.score(Xwhites_tr_scaled, ywhites_tr))\n",
    "display(whitesLogit.score(Xwhites_tes_scaled, ywhites_tes))"
   ]
  },
  {
   "cell_type": "code",
   "execution_count": 19,
   "id": "19b66204",
   "metadata": {},
   "outputs": [
    {
     "data": {
      "text/plain": [
       "array(['6', '6', '6', ..., '6', '6', '6'], dtype=object)"
      ]
     },
     "execution_count": 19,
     "metadata": {},
     "output_type": "execute_result"
    }
   ],
   "source": [
    "whitesLogit.predict(Xwhites_tes_scaled)"
   ]
  },
  {
   "cell_type": "code",
   "execution_count": 20,
   "id": "1970c87e",
   "metadata": {},
   "outputs": [
    {
     "name": "stdout",
     "output_type": "stream",
     "text": [
      "              precision    recall  f1-score   support\n",
      "\n",
      "         3-4       0.50      0.02      0.04        46\n",
      "           5       0.58      0.53      0.55       364\n",
      "           6       0.52      0.74      0.61       550\n",
      "           7       0.49      0.21      0.30       220\n",
      "         8-9       0.00      0.00      0.00        45\n",
      "\n",
      "    accuracy                           0.53      1225\n",
      "   macro avg       0.42      0.30      0.30      1225\n",
      "weighted avg       0.51      0.53      0.49      1225\n",
      "\n"
     ]
    }
   ],
   "source": [
    "print(classification_report(ywhites_tes, whitesLogit.predict(Xwhites_tes_scaled)))"
   ]
  },
  {
   "cell_type": "code",
   "execution_count": 21,
   "id": "bd411908",
   "metadata": {},
   "outputs": [
    {
     "data": {
      "text/plain": [
       "array([[  1,  22,  21,   1,   1],\n",
       "       [  0, 194, 169,   1,   0],\n",
       "       [  1, 109, 408,  32,   0],\n",
       "       [  0,  11, 162,  47,   0],\n",
       "       [  0,   1,  29,  15,   0]], dtype=int64)"
      ]
     },
     "execution_count": 21,
     "metadata": {},
     "output_type": "execute_result"
    }
   ],
   "source": [
    "confusion_matrix(ywhites_tes, whitesLogit.predict(Xwhites_tes_scaled))"
   ]
  },
  {
   "cell_type": "code",
   "execution_count": 22,
   "id": "68cd1915",
   "metadata": {},
   "outputs": [
    {
     "data": {
      "text/html": [
       "<div>\n",
       "<style scoped>\n",
       "    .dataframe tbody tr th:only-of-type {\n",
       "        vertical-align: middle;\n",
       "    }\n",
       "\n",
       "    .dataframe tbody tr th {\n",
       "        vertical-align: top;\n",
       "    }\n",
       "\n",
       "    .dataframe thead th {\n",
       "        text-align: right;\n",
       "    }\n",
       "</style>\n",
       "<table border=\"1\" class=\"dataframe\">\n",
       "  <thead>\n",
       "    <tr style=\"text-align: right;\">\n",
       "      <th></th>\n",
       "      <th>fixed acidity</th>\n",
       "      <th>volatile acidity</th>\n",
       "      <th>citric acid</th>\n",
       "      <th>residual sugar</th>\n",
       "      <th>chlorides</th>\n",
       "      <th>free sulfur dioxide</th>\n",
       "      <th>total sulfur dioxide</th>\n",
       "      <th>density</th>\n",
       "      <th>pH</th>\n",
       "      <th>sulphates</th>\n",
       "      <th>alcohol</th>\n",
       "    </tr>\n",
       "  </thead>\n",
       "  <tbody>\n",
       "    <tr>\n",
       "      <th>count</th>\n",
       "      <td>4898.000000</td>\n",
       "      <td>4898.000000</td>\n",
       "      <td>4898.000000</td>\n",
       "      <td>4898.000000</td>\n",
       "      <td>4898.000000</td>\n",
       "      <td>4898.000000</td>\n",
       "      <td>4898.000000</td>\n",
       "      <td>4898.000000</td>\n",
       "      <td>4898.000000</td>\n",
       "      <td>4898.000000</td>\n",
       "      <td>4898.000000</td>\n",
       "    </tr>\n",
       "    <tr>\n",
       "      <th>mean</th>\n",
       "      <td>6.854788</td>\n",
       "      <td>0.278241</td>\n",
       "      <td>0.334192</td>\n",
       "      <td>6.391415</td>\n",
       "      <td>0.045772</td>\n",
       "      <td>35.308085</td>\n",
       "      <td>138.360657</td>\n",
       "      <td>0.994027</td>\n",
       "      <td>3.188267</td>\n",
       "      <td>0.489847</td>\n",
       "      <td>10.514267</td>\n",
       "    </tr>\n",
       "    <tr>\n",
       "      <th>std</th>\n",
       "      <td>0.843868</td>\n",
       "      <td>0.100795</td>\n",
       "      <td>0.121020</td>\n",
       "      <td>5.072058</td>\n",
       "      <td>0.021848</td>\n",
       "      <td>17.007137</td>\n",
       "      <td>42.498065</td>\n",
       "      <td>0.002991</td>\n",
       "      <td>0.151001</td>\n",
       "      <td>0.114126</td>\n",
       "      <td>1.230621</td>\n",
       "    </tr>\n",
       "    <tr>\n",
       "      <th>min</th>\n",
       "      <td>3.800000</td>\n",
       "      <td>0.080000</td>\n",
       "      <td>0.000000</td>\n",
       "      <td>0.600000</td>\n",
       "      <td>0.009000</td>\n",
       "      <td>2.000000</td>\n",
       "      <td>9.000000</td>\n",
       "      <td>0.987110</td>\n",
       "      <td>2.720000</td>\n",
       "      <td>0.220000</td>\n",
       "      <td>8.000000</td>\n",
       "    </tr>\n",
       "    <tr>\n",
       "      <th>25%</th>\n",
       "      <td>6.300000</td>\n",
       "      <td>0.210000</td>\n",
       "      <td>0.270000</td>\n",
       "      <td>1.700000</td>\n",
       "      <td>0.036000</td>\n",
       "      <td>23.000000</td>\n",
       "      <td>108.000000</td>\n",
       "      <td>0.991723</td>\n",
       "      <td>3.090000</td>\n",
       "      <td>0.410000</td>\n",
       "      <td>9.500000</td>\n",
       "    </tr>\n",
       "    <tr>\n",
       "      <th>50%</th>\n",
       "      <td>6.800000</td>\n",
       "      <td>0.260000</td>\n",
       "      <td>0.320000</td>\n",
       "      <td>5.200000</td>\n",
       "      <td>0.043000</td>\n",
       "      <td>34.000000</td>\n",
       "      <td>134.000000</td>\n",
       "      <td>0.993740</td>\n",
       "      <td>3.180000</td>\n",
       "      <td>0.470000</td>\n",
       "      <td>10.400000</td>\n",
       "    </tr>\n",
       "    <tr>\n",
       "      <th>75%</th>\n",
       "      <td>7.300000</td>\n",
       "      <td>0.320000</td>\n",
       "      <td>0.390000</td>\n",
       "      <td>9.900000</td>\n",
       "      <td>0.050000</td>\n",
       "      <td>46.000000</td>\n",
       "      <td>167.000000</td>\n",
       "      <td>0.996100</td>\n",
       "      <td>3.280000</td>\n",
       "      <td>0.550000</td>\n",
       "      <td>11.400000</td>\n",
       "    </tr>\n",
       "    <tr>\n",
       "      <th>max</th>\n",
       "      <td>14.200000</td>\n",
       "      <td>1.100000</td>\n",
       "      <td>1.660000</td>\n",
       "      <td>65.800000</td>\n",
       "      <td>0.346000</td>\n",
       "      <td>289.000000</td>\n",
       "      <td>440.000000</td>\n",
       "      <td>1.038980</td>\n",
       "      <td>3.820000</td>\n",
       "      <td>1.080000</td>\n",
       "      <td>14.200000</td>\n",
       "    </tr>\n",
       "  </tbody>\n",
       "</table>\n",
       "</div>"
      ],
      "text/plain": [
       "       fixed acidity  volatile acidity  citric acid  residual sugar  \\\n",
       "count    4898.000000       4898.000000  4898.000000     4898.000000   \n",
       "mean        6.854788          0.278241     0.334192        6.391415   \n",
       "std         0.843868          0.100795     0.121020        5.072058   \n",
       "min         3.800000          0.080000     0.000000        0.600000   \n",
       "25%         6.300000          0.210000     0.270000        1.700000   \n",
       "50%         6.800000          0.260000     0.320000        5.200000   \n",
       "75%         7.300000          0.320000     0.390000        9.900000   \n",
       "max        14.200000          1.100000     1.660000       65.800000   \n",
       "\n",
       "         chlorides  free sulfur dioxide  total sulfur dioxide      density  \\\n",
       "count  4898.000000          4898.000000           4898.000000  4898.000000   \n",
       "mean      0.045772            35.308085            138.360657     0.994027   \n",
       "std       0.021848            17.007137             42.498065     0.002991   \n",
       "min       0.009000             2.000000              9.000000     0.987110   \n",
       "25%       0.036000            23.000000            108.000000     0.991723   \n",
       "50%       0.043000            34.000000            134.000000     0.993740   \n",
       "75%       0.050000            46.000000            167.000000     0.996100   \n",
       "max       0.346000           289.000000            440.000000     1.038980   \n",
       "\n",
       "                pH    sulphates      alcohol  \n",
       "count  4898.000000  4898.000000  4898.000000  \n",
       "mean      3.188267     0.489847    10.514267  \n",
       "std       0.151001     0.114126     1.230621  \n",
       "min       2.720000     0.220000     8.000000  \n",
       "25%       3.090000     0.410000     9.500000  \n",
       "50%       3.180000     0.470000    10.400000  \n",
       "75%       3.280000     0.550000    11.400000  \n",
       "max       3.820000     1.080000    14.200000  "
      ]
     },
     "execution_count": 22,
     "metadata": {},
     "output_type": "execute_result"
    }
   ],
   "source": [
    "whites.describe()"
   ]
  },
  {
   "cell_type": "code",
   "execution_count": 23,
   "id": "943db809",
   "metadata": {},
   "outputs": [
    {
     "data": {
      "text/plain": [
       "(fixed acidity            3.30000\n",
       " volatile acidity        -0.12000\n",
       " citric acid             -0.09000\n",
       " residual sugar         -22.90000\n",
       " chlorides               -0.00600\n",
       " free sulfur dioxide    -46.00000\n",
       " total sulfur dioxide   -69.00000\n",
       " density                  0.97859\n",
       " pH                       2.52000\n",
       " sulphates               -0.01000\n",
       " alcohol                  3.80000\n",
       " dtype: float64,\n",
       " fixed acidity            10.300000\n",
       " volatile acidity          0.650000\n",
       " citric acid               0.750000\n",
       " residual sugar           34.500000\n",
       " chlorides                 0.092000\n",
       " free sulfur dioxide     115.000000\n",
       " total sulfur dioxide    344.000000\n",
       " density                   1.009232\n",
       " pH                        3.850000\n",
       " sulphates                 0.970000\n",
       " alcohol                  17.100000\n",
       " dtype: float64)"
      ]
     },
     "execution_count": 23,
     "metadata": {},
     "output_type": "execute_result"
    }
   ],
   "source": [
    "# method from Ken\n",
    "# explore removing outliers (White Wine)\n",
    "\n",
    "# IQR Method (note uses muliplier of 3 to remove extreme outliers, 1.5 removed too many samples from the dataset)\n",
    "\n",
    "Q1w=whites.quantile(0.25)\n",
    "Q3w=whites.quantile(0.75)\n",
    "IQRw=Q3w-Q1w\n",
    "lower_boundw=Q1w - 3 * IQRw\n",
    "upper_boundw=Q3w + 3 * IQRw\n",
    "\n",
    "lower_boundw, upper_boundw"
   ]
  },
  {
   "cell_type": "code",
   "execution_count": 24,
   "id": "453cb0f3",
   "metadata": {},
   "outputs": [
    {
     "name": "stderr",
     "output_type": "stream",
     "text": [
      "C:\\Users\\student\\Anaconda3\\envs\\mlenv\\lib\\site-packages\\ipykernel_launcher.py:2: FutureWarning: Automatic reindexing on DataFrame vs Series comparisons is deprecated and will raise ValueError in a future version.  Do `left, right = left.align(right, axis=1, copy=False)` before e.g. `left == right`\n",
      "  \n"
     ]
    }
   ],
   "source": [
    "# whites[~((whites < lower_boundw) | (whites > upper_boundw)).any(axis=1)]\n",
    "whitesInliers = whites[~(whites > upper_boundw)].copy()"
   ]
  },
  {
   "cell_type": "code",
   "execution_count": 25,
   "id": "4ad4e455",
   "metadata": {},
   "outputs": [
    {
     "name": "stdout",
     "output_type": "stream",
     "text": [
      "<class 'pandas.core.frame.DataFrame'>\n",
      "RangeIndex: 4898 entries, 0 to 4897\n",
      "Data columns (total 12 columns):\n",
      " #   Column                Non-Null Count  Dtype  \n",
      "---  ------                --------------  -----  \n",
      " 0   fixed acidity         4898 non-null   float64\n",
      " 1   volatile acidity      4898 non-null   float64\n",
      " 2   citric acid           4898 non-null   float64\n",
      " 3   residual sugar        4898 non-null   float64\n",
      " 4   chlorides             4898 non-null   float64\n",
      " 5   free sulfur dioxide   4898 non-null   float64\n",
      " 6   total sulfur dioxide  4898 non-null   float64\n",
      " 7   density               4898 non-null   float64\n",
      " 8   pH                    4898 non-null   float64\n",
      " 9   sulphates             4898 non-null   float64\n",
      " 10  alcohol               4898 non-null   float64\n",
      " 11  quality               4898 non-null   object \n",
      "dtypes: float64(11), object(1)\n",
      "memory usage: 459.3+ KB\n"
     ]
    },
    {
     "name": "stderr",
     "output_type": "stream",
     "text": [
      "C:\\Users\\student\\Anaconda3\\envs\\mlenv\\lib\\site-packages\\ipykernel_launcher.py:3: FutureWarning: Automatic reindexing on DataFrame vs Series comparisons is deprecated and will raise ValueError in a future version.  Do `left, right = left.align(right, axis=1, copy=False)` before e.g. `left == right`\n",
      "  This is separate from the ipykernel package so we can avoid doing imports until\n"
     ]
    }
   ],
   "source": [
    "# confirm none are lower than Q1 - 3*IQR\n",
    "# (had forgotten to at first)\n",
    "whites[~(whites < lower_boundw)].info()"
   ]
  },
  {
   "cell_type": "code",
   "execution_count": 26,
   "id": "574cf15d",
   "metadata": {},
   "outputs": [
    {
     "name": "stdout",
     "output_type": "stream",
     "text": [
      "<class 'pandas.core.frame.DataFrame'>\n",
      "RangeIndex: 4690 entries, 0 to 4689\n",
      "Data columns (total 12 columns):\n",
      " #   Column                Non-Null Count  Dtype  \n",
      "---  ------                --------------  -----  \n",
      " 0   fixed acidity         4690 non-null   float64\n",
      " 1   volatile acidity      4690 non-null   float64\n",
      " 2   citric acid           4690 non-null   float64\n",
      " 3   residual sugar        4690 non-null   float64\n",
      " 4   chlorides             4690 non-null   float64\n",
      " 5   free sulfur dioxide   4690 non-null   float64\n",
      " 6   total sulfur dioxide  4690 non-null   float64\n",
      " 7   density               4690 non-null   float64\n",
      " 8   pH                    4690 non-null   float64\n",
      " 9   sulphates             4690 non-null   float64\n",
      " 10  alcohol               4690 non-null   float64\n",
      " 11  quality               4690 non-null   object \n",
      "dtypes: float64(11), object(1)\n",
      "memory usage: 439.8+ KB\n"
     ]
    }
   ],
   "source": [
    "whitesInliers.dropna(inplace=True)\n",
    "whitesInliers.reset_index(inplace=True, drop=True)\n",
    "\n",
    "whitesInliers.info()"
   ]
  },
  {
   "cell_type": "code",
   "execution_count": 27,
   "id": "3711ca9b",
   "metadata": {},
   "outputs": [
    {
     "data": {
      "text/html": [
       "<div>\n",
       "<style scoped>\n",
       "    .dataframe tbody tr th:only-of-type {\n",
       "        vertical-align: middle;\n",
       "    }\n",
       "\n",
       "    .dataframe tbody tr th {\n",
       "        vertical-align: top;\n",
       "    }\n",
       "\n",
       "    .dataframe thead th {\n",
       "        text-align: right;\n",
       "    }\n",
       "</style>\n",
       "<table border=\"1\" class=\"dataframe\">\n",
       "  <thead>\n",
       "    <tr style=\"text-align: right;\">\n",
       "      <th></th>\n",
       "      <th>0</th>\n",
       "      <th>1</th>\n",
       "      <th>2</th>\n",
       "      <th>3</th>\n",
       "      <th>4</th>\n",
       "      <th>5</th>\n",
       "      <th>6</th>\n",
       "      <th>7</th>\n",
       "      <th>8</th>\n",
       "      <th>9</th>\n",
       "      <th>10</th>\n",
       "    </tr>\n",
       "  </thead>\n",
       "  <tbody>\n",
       "    <tr>\n",
       "      <th>count</th>\n",
       "      <td>3.517000e+03</td>\n",
       "      <td>3.517000e+03</td>\n",
       "      <td>3.517000e+03</td>\n",
       "      <td>3.517000e+03</td>\n",
       "      <td>3.517000e+03</td>\n",
       "      <td>3.517000e+03</td>\n",
       "      <td>3.517000e+03</td>\n",
       "      <td>3.517000e+03</td>\n",
       "      <td>3.517000e+03</td>\n",
       "      <td>3.517000e+03</td>\n",
       "      <td>3.517000e+03</td>\n",
       "    </tr>\n",
       "    <tr>\n",
       "      <th>mean</th>\n",
       "      <td>-5.712519e-15</td>\n",
       "      <td>8.933618e-15</td>\n",
       "      <td>1.762290e-14</td>\n",
       "      <td>-3.968519e-15</td>\n",
       "      <td>-3.511853e-14</td>\n",
       "      <td>9.110332e-17</td>\n",
       "      <td>6.376601e-18</td>\n",
       "      <td>1.128983e-12</td>\n",
       "      <td>1.961231e-14</td>\n",
       "      <td>-2.658335e-14</td>\n",
       "      <td>-4.539414e-15</td>\n",
       "    </tr>\n",
       "    <tr>\n",
       "      <th>std</th>\n",
       "      <td>1.000142e+00</td>\n",
       "      <td>1.000142e+00</td>\n",
       "      <td>1.000142e+00</td>\n",
       "      <td>1.000142e+00</td>\n",
       "      <td>1.000142e+00</td>\n",
       "      <td>1.000142e+00</td>\n",
       "      <td>1.000142e+00</td>\n",
       "      <td>1.000142e+00</td>\n",
       "      <td>1.000142e+00</td>\n",
       "      <td>1.000142e+00</td>\n",
       "      <td>1.000142e+00</td>\n",
       "    </tr>\n",
       "    <tr>\n",
       "      <th>min</th>\n",
       "      <td>-3.565852e+00</td>\n",
       "      <td>-2.123023e+00</td>\n",
       "      <td>-2.994258e+00</td>\n",
       "      <td>-1.161227e+00</td>\n",
       "      <td>-3.128459e+00</td>\n",
       "      <td>-2.061865e+00</td>\n",
       "      <td>-3.060781e+00</td>\n",
       "      <td>-2.353366e+00</td>\n",
       "      <td>-3.144256e+00</td>\n",
       "      <td>-2.430675e+00</td>\n",
       "      <td>-1.755177e+00</td>\n",
       "    </tr>\n",
       "    <tr>\n",
       "      <th>25%</th>\n",
       "      <td>-6.536202e-01</td>\n",
       "      <td>-6.901449e-01</td>\n",
       "      <td>-5.449381e-01</td>\n",
       "      <td>-9.403268e-01</td>\n",
       "      <td>-6.430346e-01</td>\n",
       "      <td>-7.501816e-01</td>\n",
       "      <td>-7.321038e-01</td>\n",
       "      <td>-7.841958e-01</td>\n",
       "      <td>-6.885267e-01</td>\n",
       "      <td>-7.188840e-01</td>\n",
       "      <td>-8.532734e-01</td>\n",
       "    </tr>\n",
       "    <tr>\n",
       "      <th>50%</th>\n",
       "      <td>-4.690526e-02</td>\n",
       "      <td>-1.390381e-01</td>\n",
       "      <td>-9.136038e-02</td>\n",
       "      <td>-2.575439e-01</td>\n",
       "      <td>-9.071792e-02</td>\n",
       "      <td>-6.310935e-02</td>\n",
       "      <td>-8.391522e-02</td>\n",
       "      <td>-9.746902e-02</td>\n",
       "      <td>-9.118710e-02</td>\n",
       "      <td>-8.822423e-02</td>\n",
       "      <td>-1.153520e-01</td>\n",
       "    </tr>\n",
       "    <tr>\n",
       "      <th>75%</th>\n",
       "      <td>5.598097e-01</td>\n",
       "      <td>5.222900e-01</td>\n",
       "      <td>4.529329e-01</td>\n",
       "      <td>7.063850e-01</td>\n",
       "      <td>6.457043e-01</td>\n",
       "      <td>6.864240e-01</td>\n",
       "      <td>6.843082e-01</td>\n",
       "      <td>7.266031e-01</td>\n",
       "      <td>5.725236e-01</td>\n",
       "      <td>5.424356e-01</td>\n",
       "      <td>7.045608e-01</td>\n",
       "    </tr>\n",
       "    <tr>\n",
       "      <th>max</th>\n",
       "      <td>4.200100e+00</td>\n",
       "      <td>4.159595e+00</td>\n",
       "      <td>3.718693e+00</td>\n",
       "      <td>3.949604e+00</td>\n",
       "      <td>4.511921e+00</td>\n",
       "      <td>4.808858e+00</td>\n",
       "      <td>3.973265e+00</td>\n",
       "      <td>3.078642e+00</td>\n",
       "      <td>4.156561e+00</td>\n",
       "      <td>4.326394e+00</td>\n",
       "      <td>3.000316e+00</td>\n",
       "    </tr>\n",
       "  </tbody>\n",
       "</table>\n",
       "</div>"
      ],
      "text/plain": [
       "                 0             1             2             3             4   \\\n",
       "count  3.517000e+03  3.517000e+03  3.517000e+03  3.517000e+03  3.517000e+03   \n",
       "mean  -5.712519e-15  8.933618e-15  1.762290e-14 -3.968519e-15 -3.511853e-14   \n",
       "std    1.000142e+00  1.000142e+00  1.000142e+00  1.000142e+00  1.000142e+00   \n",
       "min   -3.565852e+00 -2.123023e+00 -2.994258e+00 -1.161227e+00 -3.128459e+00   \n",
       "25%   -6.536202e-01 -6.901449e-01 -5.449381e-01 -9.403268e-01 -6.430346e-01   \n",
       "50%   -4.690526e-02 -1.390381e-01 -9.136038e-02 -2.575439e-01 -9.071792e-02   \n",
       "75%    5.598097e-01  5.222900e-01  4.529329e-01  7.063850e-01  6.457043e-01   \n",
       "max    4.200100e+00  4.159595e+00  3.718693e+00  3.949604e+00  4.511921e+00   \n",
       "\n",
       "                 5             6             7             8             9   \\\n",
       "count  3.517000e+03  3.517000e+03  3.517000e+03  3.517000e+03  3.517000e+03   \n",
       "mean   9.110332e-17  6.376601e-18  1.128983e-12  1.961231e-14 -2.658335e-14   \n",
       "std    1.000142e+00  1.000142e+00  1.000142e+00  1.000142e+00  1.000142e+00   \n",
       "min   -2.061865e+00 -3.060781e+00 -2.353366e+00 -3.144256e+00 -2.430675e+00   \n",
       "25%   -7.501816e-01 -7.321038e-01 -7.841958e-01 -6.885267e-01 -7.188840e-01   \n",
       "50%   -6.310935e-02 -8.391522e-02 -9.746902e-02 -9.118710e-02 -8.822423e-02   \n",
       "75%    6.864240e-01  6.843082e-01  7.266031e-01  5.725236e-01  5.424356e-01   \n",
       "max    4.808858e+00  3.973265e+00  3.078642e+00  4.156561e+00  4.326394e+00   \n",
       "\n",
       "                 10  \n",
       "count  3.517000e+03  \n",
       "mean  -4.539414e-15  \n",
       "std    1.000142e+00  \n",
       "min   -1.755177e+00  \n",
       "25%   -8.532734e-01  \n",
       "50%   -1.153520e-01  \n",
       "75%    7.045608e-01  \n",
       "max    3.000316e+00  "
      ]
     },
     "metadata": {},
     "output_type": "display_data"
    },
    {
     "data": {
      "text/html": [
       "<div>\n",
       "<style scoped>\n",
       "    .dataframe tbody tr th:only-of-type {\n",
       "        vertical-align: middle;\n",
       "    }\n",
       "\n",
       "    .dataframe tbody tr th {\n",
       "        vertical-align: top;\n",
       "    }\n",
       "\n",
       "    .dataframe thead th {\n",
       "        text-align: right;\n",
       "    }\n",
       "</style>\n",
       "<table border=\"1\" class=\"dataframe\">\n",
       "  <thead>\n",
       "    <tr style=\"text-align: right;\">\n",
       "      <th></th>\n",
       "      <th>0</th>\n",
       "      <th>1</th>\n",
       "      <th>2</th>\n",
       "      <th>3</th>\n",
       "      <th>4</th>\n",
       "      <th>5</th>\n",
       "      <th>6</th>\n",
       "      <th>7</th>\n",
       "      <th>8</th>\n",
       "      <th>9</th>\n",
       "      <th>10</th>\n",
       "    </tr>\n",
       "  </thead>\n",
       "  <tbody>\n",
       "    <tr>\n",
       "      <th>count</th>\n",
       "      <td>1173.000000</td>\n",
       "      <td>1173.000000</td>\n",
       "      <td>1173.000000</td>\n",
       "      <td>1173.000000</td>\n",
       "      <td>1173.000000</td>\n",
       "      <td>1173.000000</td>\n",
       "      <td>1173.000000</td>\n",
       "      <td>1173.000000</td>\n",
       "      <td>1173.000000</td>\n",
       "      <td>1173.000000</td>\n",
       "      <td>1173.000000</td>\n",
       "    </tr>\n",
       "    <tr>\n",
       "      <th>mean</th>\n",
       "      <td>0.054783</td>\n",
       "      <td>0.016897</td>\n",
       "      <td>0.022788</td>\n",
       "      <td>0.012465</td>\n",
       "      <td>-0.040964</td>\n",
       "      <td>0.020252</td>\n",
       "      <td>0.033428</td>\n",
       "      <td>0.004646</td>\n",
       "      <td>-0.077211</td>\n",
       "      <td>-0.031695</td>\n",
       "      <td>-0.009784</td>\n",
       "    </tr>\n",
       "    <tr>\n",
       "      <th>std</th>\n",
       "      <td>1.024361</td>\n",
       "      <td>0.995125</td>\n",
       "      <td>1.020211</td>\n",
       "      <td>1.008820</td>\n",
       "      <td>1.023501</td>\n",
       "      <td>1.037062</td>\n",
       "      <td>1.005088</td>\n",
       "      <td>1.006624</td>\n",
       "      <td>0.998689</td>\n",
       "      <td>1.031539</td>\n",
       "      <td>1.029545</td>\n",
       "    </tr>\n",
       "    <tr>\n",
       "      <th>min</th>\n",
       "      <td>-3.687195</td>\n",
       "      <td>-2.123023</td>\n",
       "      <td>-2.994258</td>\n",
       "      <td>-1.141145</td>\n",
       "      <td>-2.576143</td>\n",
       "      <td>-1.999404</td>\n",
       "      <td>-2.868725</td>\n",
       "      <td>-2.360234</td>\n",
       "      <td>-3.011514</td>\n",
       "      <td>-2.160392</td>\n",
       "      <td>-2.083143</td>\n",
       "    </tr>\n",
       "    <tr>\n",
       "      <th>25%</th>\n",
       "      <td>-0.653620</td>\n",
       "      <td>-0.690145</td>\n",
       "      <td>-0.544938</td>\n",
       "      <td>-0.940327</td>\n",
       "      <td>-0.735087</td>\n",
       "      <td>-0.750182</td>\n",
       "      <td>-0.660083</td>\n",
       "      <td>-0.784196</td>\n",
       "      <td>-0.754898</td>\n",
       "      <td>-0.808978</td>\n",
       "      <td>-0.853273</td>\n",
       "    </tr>\n",
       "    <tr>\n",
       "      <th>50%</th>\n",
       "      <td>-0.046905</td>\n",
       "      <td>-0.139038</td>\n",
       "      <td>-0.182076</td>\n",
       "      <td>-0.207339</td>\n",
       "      <td>-0.090718</td>\n",
       "      <td>-0.063109</td>\n",
       "      <td>-0.083915</td>\n",
       "      <td>-0.097469</td>\n",
       "      <td>-0.157558</td>\n",
       "      <td>-0.178318</td>\n",
       "      <td>-0.115352</td>\n",
       "    </tr>\n",
       "    <tr>\n",
       "      <th>75%</th>\n",
       "      <td>0.681153</td>\n",
       "      <td>0.522290</td>\n",
       "      <td>0.452933</td>\n",
       "      <td>0.746549</td>\n",
       "      <td>0.645704</td>\n",
       "      <td>0.623963</td>\n",
       "      <td>0.732322</td>\n",
       "      <td>0.760939</td>\n",
       "      <td>0.572524</td>\n",
       "      <td>0.452341</td>\n",
       "      <td>0.745556</td>\n",
       "    </tr>\n",
       "    <tr>\n",
       "      <th>max</th>\n",
       "      <td>3.593385</td>\n",
       "      <td>3.939152</td>\n",
       "      <td>3.718693</td>\n",
       "      <td>2.895307</td>\n",
       "      <td>4.143710</td>\n",
       "      <td>4.559013</td>\n",
       "      <td>4.957551</td>\n",
       "      <td>2.738712</td>\n",
       "      <td>3.691964</td>\n",
       "      <td>4.146206</td>\n",
       "      <td>2.754343</td>\n",
       "    </tr>\n",
       "  </tbody>\n",
       "</table>\n",
       "</div>"
      ],
      "text/plain": [
       "                0            1            2            3            4   \\\n",
       "count  1173.000000  1173.000000  1173.000000  1173.000000  1173.000000   \n",
       "mean      0.054783     0.016897     0.022788     0.012465    -0.040964   \n",
       "std       1.024361     0.995125     1.020211     1.008820     1.023501   \n",
       "min      -3.687195    -2.123023    -2.994258    -1.141145    -2.576143   \n",
       "25%      -0.653620    -0.690145    -0.544938    -0.940327    -0.735087   \n",
       "50%      -0.046905    -0.139038    -0.182076    -0.207339    -0.090718   \n",
       "75%       0.681153     0.522290     0.452933     0.746549     0.645704   \n",
       "max       3.593385     3.939152     3.718693     2.895307     4.143710   \n",
       "\n",
       "                5            6            7            8            9   \\\n",
       "count  1173.000000  1173.000000  1173.000000  1173.000000  1173.000000   \n",
       "mean      0.020252     0.033428     0.004646    -0.077211    -0.031695   \n",
       "std       1.037062     1.005088     1.006624     0.998689     1.031539   \n",
       "min      -1.999404    -2.868725    -2.360234    -3.011514    -2.160392   \n",
       "25%      -0.750182    -0.660083    -0.784196    -0.754898    -0.808978   \n",
       "50%      -0.063109    -0.083915    -0.097469    -0.157558    -0.178318   \n",
       "75%       0.623963     0.732322     0.760939     0.572524     0.452341   \n",
       "max       4.559013     4.957551     2.738712     3.691964     4.146206   \n",
       "\n",
       "                10  \n",
       "count  1173.000000  \n",
       "mean     -0.009784  \n",
       "std       1.029545  \n",
       "min      -2.083143  \n",
       "25%      -0.853273  \n",
       "50%      -0.115352  \n",
       "75%       0.745556  \n",
       "max       2.754343  "
      ]
     },
     "metadata": {},
     "output_type": "display_data"
    }
   ],
   "source": [
    "# repeat steps above on new DF\n",
    "\n",
    "# set target to strs for replacement\n",
    "whitesInliers = whitesInliers.astype({'quality':str})\n",
    "# replace as above\n",
    "whitesInliers['quality'] = whitesInliers['quality'].replace(to_replace=['3', '4', '8', '9'], value=['3-4', '3-4', '8-9', '8-9'])\n",
    "\n",
    "# split into features and targets\n",
    "XwhitesInliers_unscaled = whitesInliers.drop(columns=['quality']).values\n",
    "ywhitesInliers = whitesInliers['quality'].values\n",
    "\n",
    "# split into training and testing\n",
    "XwhitesInliers_tr_unscaled, XwhitesInliers_tes_unscaled, ywhitesInliers_tr, ywhitesInliers_tes = \\\n",
    "                train_test_split(XwhitesInliers_unscaled, ywhitesInliers, stratify=ywhitesInliers, random_state=23)\n",
    "\n",
    "# scale the data\n",
    "# now scale using StandardScaler (lesson learned from unsupervised clustering)\n",
    "\n",
    "whitesInliersScaler = StandardScaler()\n",
    "\n",
    "# fit to training data\n",
    "whitesInliersScaler.fit(XwhitesInliers_tr_unscaled)\n",
    "\n",
    "# transform training and testing data\n",
    "XwhitesInliers_tr_scaled = whitesInliersScaler.transform(XwhitesInliers_tr_unscaled)\n",
    "XwhitesInliers_tes_scaled = whitesInliersScaler.transform(XwhitesInliers_tes_unscaled)\n",
    "\n",
    "# check scaling worked\n",
    "display(pd.DataFrame(data=XwhitesInliers_tr_scaled).describe())\n",
    "display(pd.DataFrame(data=XwhitesInliers_tes_scaled).describe())"
   ]
  },
  {
   "cell_type": "code",
   "execution_count": 28,
   "id": "62b1d89e",
   "metadata": {},
   "outputs": [
    {
     "data": {
      "text/plain": [
       "LogisticRegression(multi_class='multinomial', random_state=23)"
      ]
     },
     "execution_count": 28,
     "metadata": {},
     "output_type": "execute_result"
    }
   ],
   "source": [
    "# logistic regression\n",
    "# instantiate model\n",
    "# use random_state=23\n",
    "# multi_class = 'multinomial' for multiple target classes\n",
    "# solver='lbfgs' (default anyway)\n",
    "\n",
    "whitesInliersLogit = LogisticRegression(solver='lbfgs', multi_class='multinomial', random_state=23)\n",
    "\n",
    "# fit the logit model to training data\n",
    "whitesInliersLogit.fit(XwhitesInliers_tr_scaled, ywhitesInliers_tr)"
   ]
  },
  {
   "cell_type": "code",
   "execution_count": 29,
   "id": "a2b92d92",
   "metadata": {},
   "outputs": [
    {
     "name": "stdout",
     "output_type": "stream",
     "text": [
      "Initial classification report:\n",
      "               precision    recall  f1-score   support\n",
      "\n",
      "         3-4       0.50      0.02      0.04        46\n",
      "           5       0.58      0.53      0.55       364\n",
      "           6       0.52      0.74      0.61       550\n",
      "           7       0.49      0.21      0.30       220\n",
      "         8-9       0.00      0.00      0.00        45\n",
      "\n",
      "    accuracy                           0.53      1225\n",
      "   macro avg       0.42      0.30      0.30      1225\n",
      "weighted avg       0.51      0.53      0.49      1225\n",
      "\n",
      "Inliers classification report:\n",
      "               precision    recall  f1-score   support\n",
      "\n",
      "         3-4       0.50      0.05      0.09        39\n",
      "           5       0.59      0.55      0.57       343\n",
      "           6       0.54      0.75      0.63       529\n",
      "           7       0.53      0.28      0.37       218\n",
      "         8-9       0.00      0.00      0.00        44\n",
      "\n",
      "    accuracy                           0.55      1173\n",
      "   macro avg       0.43      0.33      0.33      1173\n",
      "weighted avg       0.53      0.55      0.52      1173\n",
      "\n"
     ]
    },
    {
     "name": "stderr",
     "output_type": "stream",
     "text": [
      "C:\\Users\\student\\Anaconda3\\envs\\mlenv\\lib\\site-packages\\sklearn\\metrics\\_classification.py:1318: UndefinedMetricWarning: Precision and F-score are ill-defined and being set to 0.0 in labels with no predicted samples. Use `zero_division` parameter to control this behavior.\n",
      "  _warn_prf(average, modifier, msg_start, len(result))\n",
      "C:\\Users\\student\\Anaconda3\\envs\\mlenv\\lib\\site-packages\\sklearn\\metrics\\_classification.py:1318: UndefinedMetricWarning: Precision and F-score are ill-defined and being set to 0.0 in labels with no predicted samples. Use `zero_division` parameter to control this behavior.\n",
      "  _warn_prf(average, modifier, msg_start, len(result))\n",
      "C:\\Users\\student\\Anaconda3\\envs\\mlenv\\lib\\site-packages\\sklearn\\metrics\\_classification.py:1318: UndefinedMetricWarning: Precision and F-score are ill-defined and being set to 0.0 in labels with no predicted samples. Use `zero_division` parameter to control this behavior.\n",
      "  _warn_prf(average, modifier, msg_start, len(result))\n"
     ]
    }
   ],
   "source": [
    "print(\"Initial classification report:\\n\",classification_report(ywhites_tes, whitesLogit.predict(Xwhites_tes_scaled)))\n",
    "print(\"Inliers classification report:\\n\",classification_report(ywhitesInliers_tes, whitesInliersLogit.predict(XwhitesInliers_tes_scaled)))"
   ]
  },
  {
   "cell_type": "code",
   "execution_count": 30,
   "id": "8add3b0c",
   "metadata": {},
   "outputs": [
    {
     "name": "stdout",
     "output_type": "stream",
     "text": [
      "Initial confusion matrix:,\n",
      " [[  1  22  21   1   1]\n",
      " [  0 194 169   1   0]\n",
      " [  1 109 408  32   0]\n",
      " [  0  11 162  47   0]\n",
      " [  0   1  29  15   0]]\n",
      "Inliers confusion matrix:,\n",
      " [[  2  22  15   0   0]\n",
      " [  2 188 151   2   0]\n",
      " [  0  95 396  38   0]\n",
      " [  0  13 144  61   0]\n",
      " [  0   2  27  15   0]]\n"
     ]
    }
   ],
   "source": [
    "print(\"Initial confusion matrix:,\\n\",confusion_matrix(ywhites_tes, whitesLogit.predict(Xwhites_tes_scaled)))\n",
    "print(\"Inliers confusion matrix:,\\n\",confusion_matrix(ywhitesInliers_tes, whitesInliersLogit.predict(XwhitesInliers_tes_scaled)))"
   ]
  },
  {
   "cell_type": "code",
   "execution_count": 31,
   "id": "3db84b06",
   "metadata": {},
   "outputs": [
    {
     "data": {
      "text/plain": [
       "0.5408018197327268"
      ]
     },
     "metadata": {},
     "output_type": "display_data"
    },
    {
     "data": {
      "text/plain": [
       "0.5515771526001705"
      ]
     },
     "metadata": {},
     "output_type": "display_data"
    }
   ],
   "source": [
    "# raw logit score\n",
    "display(whitesInliersLogit.score(XwhitesInliers_tr_scaled, ywhitesInliers_tr))\n",
    "display(whitesInliersLogit.score(XwhitesInliers_tes_scaled, ywhitesInliers_tes))"
   ]
  },
  {
   "cell_type": "code",
   "execution_count": 32,
   "id": "53953dd4",
   "metadata": {},
   "outputs": [
    {
     "data": {
      "text/plain": [
       "6      2114\n",
       "5      1371\n",
       "7       874\n",
       "8-9     176\n",
       "3-4     155\n",
       "Name: quality, dtype: int64"
      ]
     },
     "execution_count": 32,
     "metadata": {},
     "output_type": "execute_result"
    }
   ],
   "source": [
    "whitesInliers['quality'].value_counts()"
   ]
  },
  {
   "cell_type": "code",
   "execution_count": 33,
   "id": "030e6f6b",
   "metadata": {},
   "outputs": [],
   "source": [
    "# looking back, testing data is scaled funny\n",
    "# try scaling test and train together, then splitting. probably weird to do, but let's see if it improves results\n",
    "\n",
    "\n",
    "# scale using StandardScaler (lesson learned from unsupervised clustering)\n",
    "whitesfullScaler = StandardScaler()\n",
    "\n",
    "# fit to training data\n",
    "whitesfullScaler.fit(Xwhites_unscaled)\n",
    "\n",
    "# transform training and testing data\n",
    "Xwhitesfull_scaled = whitesfullScaler.transform(Xwhites_unscaled)\n",
    "\n",
    "\n",
    "# then split the scaled data into train and test sets\n",
    "Xwhitesfull_tr_scaled, Xwhitesfull_tes_scaled, ywhitesfull_tr, ywhitesfull_tes = \\\n",
    "                train_test_split(Xwhitesfull_scaled, ywhites, stratify=ywhites, random_state=23)"
   ]
  },
  {
   "cell_type": "code",
   "execution_count": 34,
   "id": "3a4463d5",
   "metadata": {
    "scrolled": true
   },
   "outputs": [
    {
     "data": {
      "text/html": [
       "<div>\n",
       "<style scoped>\n",
       "    .dataframe tbody tr th:only-of-type {\n",
       "        vertical-align: middle;\n",
       "    }\n",
       "\n",
       "    .dataframe tbody tr th {\n",
       "        vertical-align: top;\n",
       "    }\n",
       "\n",
       "    .dataframe thead th {\n",
       "        text-align: right;\n",
       "    }\n",
       "</style>\n",
       "<table border=\"1\" class=\"dataframe\">\n",
       "  <thead>\n",
       "    <tr style=\"text-align: right;\">\n",
       "      <th></th>\n",
       "      <th>0</th>\n",
       "      <th>1</th>\n",
       "      <th>2</th>\n",
       "      <th>3</th>\n",
       "      <th>4</th>\n",
       "      <th>5</th>\n",
       "      <th>6</th>\n",
       "      <th>7</th>\n",
       "      <th>8</th>\n",
       "      <th>9</th>\n",
       "      <th>10</th>\n",
       "    </tr>\n",
       "  </thead>\n",
       "  <tbody>\n",
       "    <tr>\n",
       "      <th>count</th>\n",
       "      <td>3673.000000</td>\n",
       "      <td>3673.000000</td>\n",
       "      <td>3673.000000</td>\n",
       "      <td>3673.000000</td>\n",
       "      <td>3673.000000</td>\n",
       "      <td>3673.000000</td>\n",
       "      <td>3673.000000</td>\n",
       "      <td>3673.000000</td>\n",
       "      <td>3673.000000</td>\n",
       "      <td>3673.000000</td>\n",
       "      <td>3673.000000</td>\n",
       "    </tr>\n",
       "    <tr>\n",
       "      <th>mean</th>\n",
       "      <td>-0.003657</td>\n",
       "      <td>0.009145</td>\n",
       "      <td>-0.003815</td>\n",
       "      <td>0.009125</td>\n",
       "      <td>0.003878</td>\n",
       "      <td>0.004105</td>\n",
       "      <td>0.001697</td>\n",
       "      <td>0.001169</td>\n",
       "      <td>-0.010789</td>\n",
       "      <td>-0.008631</td>\n",
       "      <td>0.003734</td>\n",
       "    </tr>\n",
       "    <tr>\n",
       "      <th>std</th>\n",
       "      <td>0.995035</td>\n",
       "      <td>1.013265</td>\n",
       "      <td>1.008243</td>\n",
       "      <td>1.006958</td>\n",
       "      <td>1.034899</td>\n",
       "      <td>0.977783</td>\n",
       "      <td>0.993625</td>\n",
       "      <td>1.007892</td>\n",
       "      <td>0.985210</td>\n",
       "      <td>1.006816</td>\n",
       "      <td>1.004951</td>\n",
       "    </tr>\n",
       "    <tr>\n",
       "      <th>min</th>\n",
       "      <td>-3.146295</td>\n",
       "      <td>-1.966985</td>\n",
       "      <td>-2.761743</td>\n",
       "      <td>-1.141944</td>\n",
       "      <td>-1.683274</td>\n",
       "      <td>-1.958677</td>\n",
       "      <td>-3.044230</td>\n",
       "      <td>-2.313038</td>\n",
       "      <td>-2.770250</td>\n",
       "      <td>-2.364709</td>\n",
       "      <td>-2.043297</td>\n",
       "    </tr>\n",
       "    <tr>\n",
       "      <th>25%</th>\n",
       "      <td>-0.657501</td>\n",
       "      <td>-0.677101</td>\n",
       "      <td>-0.530476</td>\n",
       "      <td>-0.925047</td>\n",
       "      <td>-0.447335</td>\n",
       "      <td>-0.723775</td>\n",
       "      <td>-0.714474</td>\n",
       "      <td>-0.778230</td>\n",
       "      <td>-0.717068</td>\n",
       "      <td>-0.699710</td>\n",
       "      <td>-0.824276</td>\n",
       "    </tr>\n",
       "    <tr>\n",
       "      <th>50%</th>\n",
       "      <td>-0.064931</td>\n",
       "      <td>-0.180992</td>\n",
       "      <td>-0.199917</td>\n",
       "      <td>-0.234922</td>\n",
       "      <td>-0.126906</td>\n",
       "      <td>-0.076922</td>\n",
       "      <td>-0.102619</td>\n",
       "      <td>-0.082718</td>\n",
       "      <td>-0.054751</td>\n",
       "      <td>-0.173921</td>\n",
       "      <td>-0.092863</td>\n",
       "    </tr>\n",
       "    <tr>\n",
       "      <th>75%</th>\n",
       "      <td>0.527639</td>\n",
       "      <td>0.414339</td>\n",
       "      <td>0.378559</td>\n",
       "      <td>0.711536</td>\n",
       "      <td>0.193523</td>\n",
       "      <td>0.628736</td>\n",
       "      <td>0.673966</td>\n",
       "      <td>0.713109</td>\n",
       "      <td>0.607565</td>\n",
       "      <td>0.527131</td>\n",
       "      <td>0.719818</td>\n",
       "    </tr>\n",
       "    <tr>\n",
       "      <th>max</th>\n",
       "      <td>8.705106</td>\n",
       "      <td>8.153643</td>\n",
       "      <td>10.956420</td>\n",
       "      <td>11.714112</td>\n",
       "      <td>13.743076</td>\n",
       "      <td>6.538623</td>\n",
       "      <td>5.368777</td>\n",
       "      <td>15.031298</td>\n",
       "      <td>4.051612</td>\n",
       "      <td>5.171602</td>\n",
       "      <td>2.995326</td>\n",
       "    </tr>\n",
       "  </tbody>\n",
       "</table>\n",
       "</div>"
      ],
      "text/plain": [
       "                0            1            2            3            4   \\\n",
       "count  3673.000000  3673.000000  3673.000000  3673.000000  3673.000000   \n",
       "mean     -0.003657     0.009145    -0.003815     0.009125     0.003878   \n",
       "std       0.995035     1.013265     1.008243     1.006958     1.034899   \n",
       "min      -3.146295    -1.966985    -2.761743    -1.141944    -1.683274   \n",
       "25%      -0.657501    -0.677101    -0.530476    -0.925047    -0.447335   \n",
       "50%      -0.064931    -0.180992    -0.199917    -0.234922    -0.126906   \n",
       "75%       0.527639     0.414339     0.378559     0.711536     0.193523   \n",
       "max       8.705106     8.153643    10.956420    11.714112    13.743076   \n",
       "\n",
       "                5            6            7            8            9   \\\n",
       "count  3673.000000  3673.000000  3673.000000  3673.000000  3673.000000   \n",
       "mean      0.004105     0.001697     0.001169    -0.010789    -0.008631   \n",
       "std       0.977783     0.993625     1.007892     0.985210     1.006816   \n",
       "min      -1.958677    -3.044230    -2.313038    -2.770250    -2.364709   \n",
       "25%      -0.723775    -0.714474    -0.778230    -0.717068    -0.699710   \n",
       "50%      -0.076922    -0.102619    -0.082718    -0.054751    -0.173921   \n",
       "75%       0.628736     0.673966     0.713109     0.607565     0.527131   \n",
       "max       6.538623     5.368777    15.031298     4.051612     5.171602   \n",
       "\n",
       "                10  \n",
       "count  3673.000000  \n",
       "mean      0.003734  \n",
       "std       1.004951  \n",
       "min      -2.043297  \n",
       "25%      -0.824276  \n",
       "50%      -0.092863  \n",
       "75%       0.719818  \n",
       "max       2.995326  "
      ]
     },
     "metadata": {},
     "output_type": "display_data"
    },
    {
     "data": {
      "text/html": [
       "<div>\n",
       "<style scoped>\n",
       "    .dataframe tbody tr th:only-of-type {\n",
       "        vertical-align: middle;\n",
       "    }\n",
       "\n",
       "    .dataframe tbody tr th {\n",
       "        vertical-align: top;\n",
       "    }\n",
       "\n",
       "    .dataframe thead th {\n",
       "        text-align: right;\n",
       "    }\n",
       "</style>\n",
       "<table border=\"1\" class=\"dataframe\">\n",
       "  <thead>\n",
       "    <tr style=\"text-align: right;\">\n",
       "      <th></th>\n",
       "      <th>0</th>\n",
       "      <th>1</th>\n",
       "      <th>2</th>\n",
       "      <th>3</th>\n",
       "      <th>4</th>\n",
       "      <th>5</th>\n",
       "      <th>6</th>\n",
       "      <th>7</th>\n",
       "      <th>8</th>\n",
       "      <th>9</th>\n",
       "      <th>10</th>\n",
       "    </tr>\n",
       "  </thead>\n",
       "  <tbody>\n",
       "    <tr>\n",
       "      <th>count</th>\n",
       "      <td>1225.000000</td>\n",
       "      <td>1225.000000</td>\n",
       "      <td>1225.000000</td>\n",
       "      <td>1225.000000</td>\n",
       "      <td>1225.000000</td>\n",
       "      <td>1225.000000</td>\n",
       "      <td>1225.000000</td>\n",
       "      <td>1225.000000</td>\n",
       "      <td>1225.000000</td>\n",
       "      <td>1225.000000</td>\n",
       "      <td>1225.000000</td>\n",
       "    </tr>\n",
       "    <tr>\n",
       "      <th>mean</th>\n",
       "      <td>0.010966</td>\n",
       "      <td>-0.027421</td>\n",
       "      <td>0.011437</td>\n",
       "      <td>-0.027361</td>\n",
       "      <td>-0.011626</td>\n",
       "      <td>-0.012308</td>\n",
       "      <td>-0.005087</td>\n",
       "      <td>-0.003507</td>\n",
       "      <td>0.032350</td>\n",
       "      <td>0.025879</td>\n",
       "      <td>-0.011197</td>\n",
       "    </tr>\n",
       "    <tr>\n",
       "      <th>std</th>\n",
       "      <td>1.015475</td>\n",
       "      <td>0.959434</td>\n",
       "      <td>0.975600</td>\n",
       "      <td>0.979153</td>\n",
       "      <td>0.887921</td>\n",
       "      <td>1.064543</td>\n",
       "      <td>1.019672</td>\n",
       "      <td>0.976769</td>\n",
       "      <td>1.043228</td>\n",
       "      <td>0.979644</td>\n",
       "      <td>0.985741</td>\n",
       "    </tr>\n",
       "    <tr>\n",
       "      <th>min</th>\n",
       "      <td>-3.620351</td>\n",
       "      <td>-1.966985</td>\n",
       "      <td>-2.761743</td>\n",
       "      <td>-1.102508</td>\n",
       "      <td>-1.454396</td>\n",
       "      <td>-1.899872</td>\n",
       "      <td>-2.832434</td>\n",
       "      <td>-2.306351</td>\n",
       "      <td>-3.101408</td>\n",
       "      <td>-1.926552</td>\n",
       "      <td>-1.718225</td>\n",
       "    </tr>\n",
       "    <tr>\n",
       "      <th>25%</th>\n",
       "      <td>-0.657501</td>\n",
       "      <td>-0.677101</td>\n",
       "      <td>-0.613115</td>\n",
       "      <td>-0.925047</td>\n",
       "      <td>-0.447335</td>\n",
       "      <td>-0.723775</td>\n",
       "      <td>-0.714474</td>\n",
       "      <td>-0.744792</td>\n",
       "      <td>-0.650836</td>\n",
       "      <td>-0.612079</td>\n",
       "      <td>-0.824276</td>\n",
       "    </tr>\n",
       "    <tr>\n",
       "      <th>50%</th>\n",
       "      <td>-0.064931</td>\n",
       "      <td>-0.180992</td>\n",
       "      <td>-0.117278</td>\n",
       "      <td>-0.274357</td>\n",
       "      <td>-0.126906</td>\n",
       "      <td>-0.076922</td>\n",
       "      <td>-0.126152</td>\n",
       "      <td>-0.109468</td>\n",
       "      <td>-0.054751</td>\n",
       "      <td>-0.086290</td>\n",
       "      <td>-0.174131</td>\n",
       "    </tr>\n",
       "    <tr>\n",
       "      <th>75%</th>\n",
       "      <td>0.527639</td>\n",
       "      <td>0.414339</td>\n",
       "      <td>0.461199</td>\n",
       "      <td>0.573511</td>\n",
       "      <td>0.193523</td>\n",
       "      <td>0.569932</td>\n",
       "      <td>0.697499</td>\n",
       "      <td>0.632857</td>\n",
       "      <td>0.673797</td>\n",
       "      <td>0.527131</td>\n",
       "      <td>0.719818</td>\n",
       "    </tr>\n",
       "    <tr>\n",
       "      <th>max</th>\n",
       "      <td>5.860770</td>\n",
       "      <td>5.028155</td>\n",
       "      <td>5.502211</td>\n",
       "      <td>4.970598</td>\n",
       "      <td>8.890871</td>\n",
       "      <td>14.918314</td>\n",
       "      <td>7.098444</td>\n",
       "      <td>5.441254</td>\n",
       "      <td>4.184075</td>\n",
       "      <td>4.295287</td>\n",
       "      <td>2.832789</td>\n",
       "    </tr>\n",
       "  </tbody>\n",
       "</table>\n",
       "</div>"
      ],
      "text/plain": [
       "                0            1            2            3            4   \\\n",
       "count  1225.000000  1225.000000  1225.000000  1225.000000  1225.000000   \n",
       "mean      0.010966    -0.027421     0.011437    -0.027361    -0.011626   \n",
       "std       1.015475     0.959434     0.975600     0.979153     0.887921   \n",
       "min      -3.620351    -1.966985    -2.761743    -1.102508    -1.454396   \n",
       "25%      -0.657501    -0.677101    -0.613115    -0.925047    -0.447335   \n",
       "50%      -0.064931    -0.180992    -0.117278    -0.274357    -0.126906   \n",
       "75%       0.527639     0.414339     0.461199     0.573511     0.193523   \n",
       "max       5.860770     5.028155     5.502211     4.970598     8.890871   \n",
       "\n",
       "                5            6            7            8            9   \\\n",
       "count  1225.000000  1225.000000  1225.000000  1225.000000  1225.000000   \n",
       "mean     -0.012308    -0.005087    -0.003507     0.032350     0.025879   \n",
       "std       1.064543     1.019672     0.976769     1.043228     0.979644   \n",
       "min      -1.899872    -2.832434    -2.306351    -3.101408    -1.926552   \n",
       "25%      -0.723775    -0.714474    -0.744792    -0.650836    -0.612079   \n",
       "50%      -0.076922    -0.126152    -0.109468    -0.054751    -0.086290   \n",
       "75%       0.569932     0.697499     0.632857     0.673797     0.527131   \n",
       "max      14.918314     7.098444     5.441254     4.184075     4.295287   \n",
       "\n",
       "                10  \n",
       "count  1225.000000  \n",
       "mean     -0.011197  \n",
       "std       0.985741  \n",
       "min      -1.718225  \n",
       "25%      -0.824276  \n",
       "50%      -0.174131  \n",
       "75%       0.719818  \n",
       "max       2.832789  "
      ]
     },
     "metadata": {},
     "output_type": "display_data"
    }
   ],
   "source": [
    "# check new scaling worked\n",
    "display(pd.DataFrame(data=Xwhitesfull_tr_scaled).describe())\n",
    "display(pd.DataFrame(data=Xwhitesfull_tes_scaled).describe())\n",
    "# dragged train set down to unscaledness of test data above"
   ]
  },
  {
   "cell_type": "code",
   "execution_count": 35,
   "id": "e1aaef38",
   "metadata": {},
   "outputs": [
    {
     "data": {
      "text/plain": [
       "LogisticRegression(multi_class='multinomial', random_state=23)"
      ]
     },
     "execution_count": 35,
     "metadata": {},
     "output_type": "execute_result"
    }
   ],
   "source": [
    "# try the logit now anyway\n",
    "# logistic regression\n",
    "# instantiate model\n",
    "# use random_state=23\n",
    "# multi_class = 'multinomial' for multiple target classes\n",
    "# solver='lbfgs' (default anyway)\n",
    "\n",
    "whitesfullLogit = LogisticRegression(solver='lbfgs', multi_class='multinomial', random_state=23)\n",
    "\n",
    "# fit the logit model to training data\n",
    "whitesfullLogit.fit(Xwhitesfull_tr_scaled, ywhitesfull_tr)"
   ]
  },
  {
   "cell_type": "code",
   "execution_count": 36,
   "id": "e29e229c",
   "metadata": {},
   "outputs": [
    {
     "data": {
      "text/plain": [
       "0.5505036754696433"
      ]
     },
     "metadata": {},
     "output_type": "display_data"
    },
    {
     "data": {
      "text/plain": [
       "0.5306122448979592"
      ]
     },
     "metadata": {},
     "output_type": "display_data"
    }
   ],
   "source": [
    "# raw accuracy scores\n",
    "display(whitesfullLogit.score(Xwhitesfull_tr_scaled, ywhitesfull_tr))\n",
    "display(whitesfullLogit.score(Xwhitesfull_tes_scaled, ywhitesfull_tes))"
   ]
  },
  {
   "cell_type": "code",
   "execution_count": 37,
   "id": "fc6f8469",
   "metadata": {},
   "outputs": [
    {
     "name": "stdout",
     "output_type": "stream",
     "text": [
      "initial confusion:\n",
      " [[  1  22  21   1   1]\n",
      " [  0 194 169   1   0]\n",
      " [  1 109 408  32   0]\n",
      " [  0  11 162  47   0]\n",
      " [  0   1  29  15   0]]\n",
      "\"full\" confusion:\n",
      " [[  1  22  21   1   1]\n",
      " [  0 194 169   1   0]\n",
      " [  1 109 408  32   0]\n",
      " [  0  11 162  47   0]\n",
      " [  0   1  29  15   0]]\n"
     ]
    }
   ],
   "source": [
    "print(\"initial confusion:\\n\", confusion_matrix(ywhites_tes, whitesLogit.predict(Xwhites_tes_scaled)))\n",
    "print(\"\\\"full\\\" confusion:\\n\", confusion_matrix(ywhitesfull_tes, whitesfullLogit.predict(Xwhitesfull_tes_scaled)))"
   ]
  },
  {
   "cell_type": "code",
   "execution_count": 38,
   "id": "02a87f93",
   "metadata": {},
   "outputs": [
    {
     "name": "stdout",
     "output_type": "stream",
     "text": [
      "initial class report:\n",
      "               precision    recall  f1-score   support\n",
      "\n",
      "         3-4       0.50      0.02      0.04        46\n",
      "           5       0.58      0.53      0.55       364\n",
      "           6       0.52      0.74      0.61       550\n",
      "           7       0.49      0.21      0.30       220\n",
      "         8-9       0.00      0.00      0.00        45\n",
      "\n",
      "    accuracy                           0.53      1225\n",
      "   macro avg       0.42      0.30      0.30      1225\n",
      "weighted avg       0.51      0.53      0.49      1225\n",
      "\n",
      "\"full\" class report:\n",
      "               precision    recall  f1-score   support\n",
      "\n",
      "         3-4       0.50      0.02      0.04        46\n",
      "           5       0.58      0.53      0.55       364\n",
      "           6       0.52      0.74      0.61       550\n",
      "           7       0.49      0.21      0.30       220\n",
      "         8-9       0.00      0.00      0.00        45\n",
      "\n",
      "    accuracy                           0.53      1225\n",
      "   macro avg       0.42      0.30      0.30      1225\n",
      "weighted avg       0.51      0.53      0.49      1225\n",
      "\n"
     ]
    }
   ],
   "source": [
    "print(\"initial class report:\\n\", classification_report(ywhites_tes, whitesLogit.predict(Xwhites_tes_scaled)))\n",
    "print(\"\\\"full\\\" class report:\\n\", classification_report(ywhitesfull_tes, whitesfullLogit.predict(Xwhitesfull_tes_scaled)))"
   ]
  },
  {
   "cell_type": "code",
   "execution_count": 39,
   "id": "ce2442ad",
   "metadata": {},
   "outputs": [],
   "source": [
    "# scores are the same, so the scaling wasn't the issue"
   ]
  },
  {
   "cell_type": "code",
   "execution_count": 40,
   "id": "09c7caf3",
   "metadata": {},
   "outputs": [],
   "source": [
    "# from brief discussion during class, try removing density column\n",
    "whites_nodensity = whites.drop(columns=['density'])"
   ]
  },
  {
   "cell_type": "code",
   "execution_count": 41,
   "id": "0e1e4586",
   "metadata": {},
   "outputs": [
    {
     "data": {
      "text/plain": [
       "LogisticRegression(multi_class='multinomial', random_state=23)"
      ]
     },
     "execution_count": 41,
     "metadata": {},
     "output_type": "execute_result"
    }
   ],
   "source": [
    "# since removing outliers didn't do much, don't bother getting rid of them for this tr\n",
    "# follow same process as initial\n",
    "\n",
    "# split features and targets\n",
    "# ywhites would be the same, but keep naming consistent\n",
    "Xwhites_nodensity_unscaled = whites_nodensity.drop(columns=['quality']).values\n",
    "ywhites_nodensity = whites_nodensity['quality'].values\n",
    "\n",
    "# split into training and testing data\n",
    "# default 75%-25%\n",
    "# stratify the ywhites column so we don't end up with all '8-9' in the testing data, for example\n",
    "Xwhites_nodens_tr_unscaled, Xwhites_nodens_tes_unscaled, ywhites_nodens_tr, ywhites_nodens_tes = \\\n",
    "                train_test_split(Xwhites_nodensity_unscaled, ywhites_nodensity, stratify=ywhites_nodensity, random_state=23)\n",
    "\n",
    "\n",
    "# scale using StandardScaler\n",
    "whitesnodensScaler = StandardScaler()\n",
    "\n",
    "# fit to training data\n",
    "whitesnodensScaler.fit(Xwhites_nodens_tr_unscaled)\n",
    "\n",
    "# transform training and testing data\n",
    "Xwhites_nodens_tr_scaled = whitesnodensScaler.transform(Xwhites_nodens_tr_unscaled)\n",
    "Xwhites_nodens_tes_scaled = whitesnodensScaler.transform(Xwhites_nodens_tes_unscaled)\n",
    "\n",
    "# logit\n",
    "whitesnodensLogit = LogisticRegression(solver='lbfgs', multi_class='multinomial', random_state=23)\n",
    "\n",
    "# fit the logit model to training data\n",
    "whitesnodensLogit.fit(Xwhites_nodens_tr_scaled, ywhites_nodens_tr)"
   ]
  },
  {
   "cell_type": "code",
   "execution_count": 42,
   "id": "4b3e5843",
   "metadata": {},
   "outputs": [
    {
     "data": {
      "text/plain": [
       "0.5507759324802614"
      ]
     },
     "metadata": {},
     "output_type": "display_data"
    },
    {
     "data": {
      "text/plain": [
       "0.5322448979591837"
      ]
     },
     "metadata": {},
     "output_type": "display_data"
    }
   ],
   "source": [
    "# raw accuracy scores\n",
    "display(whitesnodensLogit.score(Xwhites_nodens_tr_scaled, ywhites_nodens_tr))\n",
    "display(whitesnodensLogit.score(Xwhites_nodens_tes_scaled, ywhites_nodens_tes))"
   ]
  },
  {
   "cell_type": "code",
   "execution_count": 43,
   "id": "202430cc",
   "metadata": {},
   "outputs": [
    {
     "name": "stdout",
     "output_type": "stream",
     "text": [
      "Initial confusion matrix:,\n",
      " [[  1  22  21   1   1]\n",
      " [  0 194 169   1   0]\n",
      " [  1 109 408  32   0]\n",
      " [  0  11 162  47   0]\n",
      " [  0   1  29  15   0]]\n",
      "nodens confusion matrix:,\n",
      " [[  1  21  22   1   1]\n",
      " [  0 195 166   3   0]\n",
      " [  1 108 412  29   0]\n",
      " [  0  11 165  44   0]\n",
      " [  0   1  28  16   0]]\n"
     ]
    }
   ],
   "source": [
    "print(\"Initial confusion matrix:,\\n\", confusion_matrix(ywhites_tes, whitesLogit.predict(Xwhites_tes_scaled)))\n",
    "print(\"nodens confusion matrix:,\\n\", confusion_matrix(ywhites_nodens_tes, whitesnodensLogit.predict(Xwhites_nodens_tes_scaled)))"
   ]
  },
  {
   "cell_type": "code",
   "execution_count": 44,
   "id": "28f9eb51",
   "metadata": {},
   "outputs": [
    {
     "name": "stdout",
     "output_type": "stream",
     "text": [
      "initial class report:\n",
      "               precision    recall  f1-score   support\n",
      "\n",
      "         3-4       0.50      0.02      0.04        46\n",
      "           5       0.58      0.53      0.55       364\n",
      "           6       0.52      0.74      0.61       550\n",
      "           7       0.49      0.21      0.30       220\n",
      "         8-9       0.00      0.00      0.00        45\n",
      "\n",
      "    accuracy                           0.53      1225\n",
      "   macro avg       0.42      0.30      0.30      1225\n",
      "weighted avg       0.51      0.53      0.49      1225\n",
      "\n",
      "nodens class report:\n",
      "               precision    recall  f1-score   support\n",
      "\n",
      "         3-4       0.50      0.02      0.04        46\n",
      "           5       0.58      0.54      0.56       364\n",
      "           6       0.52      0.75      0.61       550\n",
      "           7       0.47      0.20      0.28       220\n",
      "         8-9       0.00      0.00      0.00        45\n",
      "\n",
      "    accuracy                           0.53      1225\n",
      "   macro avg       0.41      0.30      0.30      1225\n",
      "weighted avg       0.51      0.53      0.49      1225\n",
      "\n"
     ]
    }
   ],
   "source": [
    "print(\"initial class report:\\n\", classification_report(ywhites_tes, whitesLogit.predict(Xwhites_tes_scaled)))\n",
    "print(\"nodens class report:\\n\", classification_report(ywhites_nodens_tes, whitesnodensLogit.predict(Xwhites_nodens_tes_scaled)))"
   ]
  },
  {
   "cell_type": "code",
   "execution_count": 45,
   "id": "054d8040",
   "metadata": {},
   "outputs": [],
   "source": [
    "# class '8-9' still not being guessed *at all* and class '3-4' being guessed only 1.\n",
    "# will need to try group 3-5 together and 7-9"
   ]
  },
  {
   "cell_type": "code",
   "execution_count": 46,
   "id": "7f1b6ec1",
   "metadata": {},
   "outputs": [],
   "source": [
    "whites2 = whites.copy()"
   ]
  },
  {
   "cell_type": "code",
   "execution_count": 47,
   "id": "606649c9",
   "metadata": {},
   "outputs": [
    {
     "data": {
      "text/plain": [
       "6      2198\n",
       "5      1457\n",
       "7       880\n",
       "3-4     183\n",
       "8-9     180\n",
       "Name: quality, dtype: int64"
      ]
     },
     "execution_count": 47,
     "metadata": {},
     "output_type": "execute_result"
    }
   ],
   "source": [
    "whites2['quality'].value_counts()\n",
    "#whites.info()"
   ]
  },
  {
   "cell_type": "code",
   "execution_count": 48,
   "id": "742c9b09",
   "metadata": {},
   "outputs": [],
   "source": [
    "whites2['quality'] = whites2['quality'].replace(to_replace=['5', '3-4', '7', '8-9'],\n",
    "                                              value=['3-5', '3-5', '7-9', '7-9'])"
   ]
  },
  {
   "cell_type": "code",
   "execution_count": 49,
   "id": "a2235900",
   "metadata": {},
   "outputs": [
    {
     "data": {
      "text/plain": [
       "6      2198\n",
       "3-5    1640\n",
       "7-9    1060\n",
       "Name: quality, dtype: int64"
      ]
     },
     "execution_count": 49,
     "metadata": {},
     "output_type": "execute_result"
    }
   ],
   "source": [
    "whites2['quality'].value_counts()\n",
    "# more balanced now"
   ]
  },
  {
   "cell_type": "code",
   "execution_count": 58,
   "id": "e6205482",
   "metadata": {},
   "outputs": [
    {
     "data": {
      "text/plain": [
       "LogisticRegression(multi_class='multinomial', random_state=23)"
      ]
     },
     "execution_count": 58,
     "metadata": {},
     "output_type": "execute_result"
    }
   ],
   "source": [
    "# split features and targets\n",
    "\n",
    "Xwhites2_unscaled = whites2.drop(columns=['quality']).values\n",
    "ywhites2 = whites2['quality'].values\n",
    "\n",
    "\n",
    "# split into training and testing data\n",
    "# default 75%-25%\n",
    "# stratify the ywhites column so we don't end up with all '8-9' in the testing data, for example\n",
    "\n",
    "Xwhites2_tr_unscaled, Xwhites2_tes_unscaled, ywhites2_tr, ywhites2_tes = \\\n",
    "                train_test_split(Xwhites2_unscaled, ywhites2, stratify=ywhites2, random_state=23)\n",
    "# now scale using StandardScaler (lesson learned from unsupervised clustering)\n",
    "\n",
    "whites2Scaler = StandardScaler()\n",
    "\n",
    "# fit to training data\n",
    "whites2Scaler.fit(Xwhites2_tr_unscaled)\n",
    "\n",
    "# transform training and testing data\n",
    "Xwhites2_tr_scaled = whites2Scaler.transform(Xwhites2_tr_unscaled)\n",
    "Xwhites2_tes_scaled = whites2Scaler.transform(Xwhites2_tes_unscaled)\n",
    "\n",
    "\n",
    "# logit\n",
    "whites2Logit = LogisticRegression(solver='lbfgs', multi_class='multinomial', random_state=23)\n",
    "\n",
    "# fit the logit model to training data\n",
    "whites2Logit.fit(Xwhites2_tr_scaled, ywhites2_tr)\n"
   ]
  },
  {
   "cell_type": "code",
   "execution_count": 59,
   "id": "2984ac86",
   "metadata": {},
   "outputs": [
    {
     "data": {
      "text/plain": [
       "0.5755513204465015"
      ]
     },
     "metadata": {},
     "output_type": "display_data"
    },
    {
     "data": {
      "text/plain": [
       "0.5885714285714285"
      ]
     },
     "metadata": {},
     "output_type": "display_data"
    }
   ],
   "source": [
    "# raw accuracy scores\n",
    "display(whites2Logit.score(Xwhites2_tr_scaled, ywhites2_tr))\n",
    "display(whites2Logit.score(Xwhites2_tes_scaled, ywhites2_tes))"
   ]
  },
  {
   "cell_type": "code",
   "execution_count": 60,
   "id": "54f7c4c7",
   "metadata": {},
   "outputs": [
    {
     "data": {
      "text/plain": [
       "array([[256, 146,   8],\n",
       "       [130, 364,  56],\n",
       "       [ 16, 148, 101]], dtype=int64)"
      ]
     },
     "execution_count": 60,
     "metadata": {},
     "output_type": "execute_result"
    }
   ],
   "source": [
    "confusion_matrix(ywhites2_tes, whites2Logit.predict(Xwhites2_tes_scaled))\n",
    "# at least now each class is being predicted"
   ]
  },
  {
   "cell_type": "code",
   "execution_count": 61,
   "id": "dd67343c",
   "metadata": {},
   "outputs": [
    {
     "name": "stdout",
     "output_type": "stream",
     "text": [
      "              precision    recall  f1-score   support\n",
      "\n",
      "         3-5       0.64      0.62      0.63       410\n",
      "           6       0.55      0.66      0.60       550\n",
      "         7-9       0.61      0.38      0.47       265\n",
      "\n",
      "    accuracy                           0.59      1225\n",
      "   macro avg       0.60      0.56      0.57      1225\n",
      "weighted avg       0.59      0.59      0.58      1225\n",
      "\n"
     ]
    }
   ],
   "source": [
    "print(classification_report(ywhites2_tes, whites2Logit.predict(Xwhites2_tes_scaled)))"
   ]
  },
  {
   "cell_type": "code",
   "execution_count": 57,
   "id": "15ac73ec",
   "metadata": {},
   "outputs": [
    {
     "data": {
      "text/plain": [
       "3-6    3838\n",
       "7-9    1060\n",
       "Name: quality, dtype: int64"
      ]
     },
     "execution_count": 57,
     "metadata": {},
     "output_type": "execute_result"
    }
   ],
   "source": [
    "# try binary\n",
    "whites3 = whites.copy()\n",
    "whites3['quality'] = whites3['quality'].replace(to_replace=['5', '3-4', '6', '7', '8-9'],\n",
    "                                              value=['3-6', '3-6', '3-6', '7-9', '7-9'])\n",
    "whites3['quality'].value_counts()"
   ]
  },
  {
   "cell_type": "code",
   "execution_count": 62,
   "id": "279fe0e0",
   "metadata": {},
   "outputs": [
    {
     "data": {
      "text/plain": [
       "LogisticRegression(random_state=23)"
      ]
     },
     "execution_count": 62,
     "metadata": {},
     "output_type": "execute_result"
    }
   ],
   "source": [
    "# split features and targets\n",
    "\n",
    "Xwhites3_unscaled = whites3.drop(columns=['quality']).values\n",
    "ywhites3 = whites3['quality'].values\n",
    "\n",
    "\n",
    "# split into training and testing data\n",
    "# default 75%-25%\n",
    "# stratify the ywhites column so we don't end up with all '8-9' in the testing data, for example\n",
    "\n",
    "Xwhites3_tr_unscaled, Xwhites3_tes_unscaled, ywhites3_tr, ywhites3_tes = \\\n",
    "                train_test_split(Xwhites3_unscaled, ywhites3, stratify=ywhites3, random_state=23)\n",
    "# now scale using StandardScaler (lesson learned from unsupervised clustering)\n",
    "\n",
    "whites3Scaler = StandardScaler()\n",
    "\n",
    "# fit to training data\n",
    "whites3Scaler.fit(Xwhites3_tr_unscaled)\n",
    "\n",
    "# transform training and testing data\n",
    "Xwhites3_tr_scaled = whites3Scaler.transform(Xwhites3_tr_unscaled)\n",
    "Xwhites3_tes_scaled = whites3Scaler.transform(Xwhites3_tes_unscaled)\n",
    "\n",
    "\n",
    "# logit\n",
    "# leave off multi_class argument this time for binary\n",
    "whites3Logit = LogisticRegression(solver='lbfgs', random_state=23)\n",
    "\n",
    "# fit the logit model to training data\n",
    "whites3Logit.fit(Xwhites3_tr_scaled, ywhites3_tr)\n"
   ]
  },
  {
   "cell_type": "code",
   "execution_count": 63,
   "id": "0dc0c7cb",
   "metadata": {},
   "outputs": [
    {
     "data": {
      "text/plain": [
       "0.7977130411108087"
      ]
     },
     "metadata": {},
     "output_type": "display_data"
    },
    {
     "data": {
      "text/plain": [
       "0.8114285714285714"
      ]
     },
     "metadata": {},
     "output_type": "display_data"
    }
   ],
   "source": [
    "# raw accuracy scores\n",
    "display(whites3Logit.score(Xwhites3_tr_scaled, ywhites3_tr))\n",
    "display(whites3Logit.score(Xwhites3_tes_scaled, ywhites3_tes))"
   ]
  },
  {
   "cell_type": "code",
   "execution_count": 64,
   "id": "937cbd5d",
   "metadata": {},
   "outputs": [
    {
     "data": {
      "text/plain": [
       "array([[915,  45],\n",
       "       [186,  79]], dtype=int64)"
      ]
     },
     "execution_count": 64,
     "metadata": {},
     "output_type": "execute_result"
    }
   ],
   "source": [
    "confusion_matrix(ywhites3_tes, whites3Logit.predict(Xwhites3_tes_scaled))"
   ]
  },
  {
   "cell_type": "code",
   "execution_count": 65,
   "id": "092390cc",
   "metadata": {},
   "outputs": [
    {
     "name": "stdout",
     "output_type": "stream",
     "text": [
      "              precision    recall  f1-score   support\n",
      "\n",
      "         3-6       0.83      0.95      0.89       960\n",
      "         7-9       0.64      0.30      0.41       265\n",
      "\n",
      "    accuracy                           0.81      1225\n",
      "   macro avg       0.73      0.63      0.65      1225\n",
      "weighted avg       0.79      0.81      0.78      1225\n",
      "\n"
     ]
    }
   ],
   "source": [
    "print(classification_report(ywhites3_tes, whites3Logit.predict(Xwhites3_tes_scaled)))"
   ]
  },
  {
   "cell_type": "code",
   "execution_count": 75,
   "id": "ab82d16c",
   "metadata": {},
   "outputs": [
    {
     "data": {
      "text/plain": [
       "6      2198\n",
       "5      1457\n",
       "7       880\n",
       "3-4     183\n",
       "8-9     180\n",
       "Name: quality, dtype: int64"
      ]
     },
     "execution_count": 75,
     "metadata": {},
     "output_type": "execute_result"
    }
   ],
   "source": [
    "# didn't label encode the qualities and that might cause problems\n",
    "\n",
    "\n",
    "whites4 = whites.copy()\n",
    "whites4['quality'].value_counts()"
   ]
  },
  {
   "cell_type": "code",
   "execution_count": 77,
   "id": "73c9ea34",
   "metadata": {},
   "outputs": [
    {
     "name": "stdout",
     "output_type": "stream",
     "text": [
      "<class 'pandas.core.frame.DataFrame'>\n",
      "RangeIndex: 4898 entries, 0 to 4897\n",
      "Data columns (total 12 columns):\n",
      " #   Column                Non-Null Count  Dtype  \n",
      "---  ------                --------------  -----  \n",
      " 0   fixed acidity         4898 non-null   float64\n",
      " 1   volatile acidity      4898 non-null   float64\n",
      " 2   citric acid           4898 non-null   float64\n",
      " 3   residual sugar        4898 non-null   float64\n",
      " 4   chlorides             4898 non-null   float64\n",
      " 5   free sulfur dioxide   4898 non-null   float64\n",
      " 6   total sulfur dioxide  4898 non-null   float64\n",
      " 7   density               4898 non-null   float64\n",
      " 8   pH                    4898 non-null   float64\n",
      " 9   sulphates             4898 non-null   float64\n",
      " 10  alcohol               4898 non-null   float64\n",
      " 11  quality               4898 non-null   int32  \n",
      "dtypes: float64(11), int32(1)\n",
      "memory usage: 440.2 KB\n"
     ]
    }
   ],
   "source": [
    "whites4['quality'] = whites4['quality'].replace(to_replace=['3-4', '5', '6', '7', '8-9'],\n",
    "                                               value=[0, 1, 2, 3, 4]).astype(int)\n",
    "whites4.info()"
   ]
  },
  {
   "cell_type": "code",
   "execution_count": 79,
   "id": "e5a23ce8",
   "metadata": {},
   "outputs": [
    {
     "data": {
      "text/plain": [
       "2    2198\n",
       "1    1457\n",
       "3     880\n",
       "0     183\n",
       "4     180\n",
       "Name: quality, dtype: int64"
      ]
     },
     "execution_count": 79,
     "metadata": {},
     "output_type": "execute_result"
    }
   ],
   "source": [
    "whites4['quality'].value_counts()"
   ]
  },
  {
   "cell_type": "code",
   "execution_count": 80,
   "id": "8ddc613c",
   "metadata": {},
   "outputs": [
    {
     "data": {
      "text/plain": [
       "LogisticRegression(multi_class='multinomial', random_state=23)"
      ]
     },
     "execution_count": 80,
     "metadata": {},
     "output_type": "execute_result"
    }
   ],
   "source": [
    "# split features and targets\n",
    "\n",
    "Xwhites4_unscaled = whites4.drop(columns=['quality']).values\n",
    "ywhites4 = whites4['quality'].values\n",
    "\n",
    "\n",
    "# split into training and testing data\n",
    "# default 75%-25%\n",
    "# stratify the ywhites column so we don't end up with all '8-9' in the testing data, for example\n",
    "\n",
    "Xwhites4_tr_unscaled, Xwhites4_tes_unscaled, ywhites4_tr, ywhites4_tes = \\\n",
    "                train_test_split(Xwhites4_unscaled, ywhites4, stratify=ywhites4, random_state=23)\n",
    "# now scale using StandardScaler (lesson learned from unsupervised clustering)\n",
    "\n",
    "whites4Scaler = StandardScaler()\n",
    "\n",
    "# fit to training data\n",
    "whites4Scaler.fit(Xwhites4_tr_unscaled)\n",
    "\n",
    "# transform training and testing data\n",
    "Xwhites4_tr_scaled = whites4Scaler.transform(Xwhites4_tr_unscaled)\n",
    "Xwhites4_tes_scaled = whites4Scaler.transform(Xwhites4_tes_unscaled)\n",
    "\n",
    "\n",
    "# logit, multinomial again\n",
    "whites4Logit = LogisticRegression(solver='lbfgs', random_state=23, multi_class='multinomial')\n",
    "\n",
    "# fit the logit model to training data\n",
    "whites4Logit.fit(Xwhites4_tr_scaled, ywhites4_tr)\n"
   ]
  },
  {
   "cell_type": "code",
   "execution_count": 81,
   "id": "c4b53a58",
   "metadata": {},
   "outputs": [
    {
     "data": {
      "text/plain": [
       "0.5505036754696433"
      ]
     },
     "metadata": {},
     "output_type": "display_data"
    },
    {
     "data": {
      "text/plain": [
       "0.5306122448979592"
      ]
     },
     "metadata": {},
     "output_type": "display_data"
    }
   ],
   "source": [
    "# raw accuracy scores\n",
    "display(whites4Logit.score(Xwhites4_tr_scaled, ywhites4_tr))\n",
    "display(whites4Logit.score(Xwhites4_tes_scaled, ywhites4_tes))\n",
    "\n",
    "# scores didn't change, so the model must be encoding itself under the hood, if it'd matter"
   ]
  },
  {
   "cell_type": "code",
   "execution_count": 82,
   "id": "deeaa390",
   "metadata": {},
   "outputs": [
    {
     "data": {
      "text/plain": [
       "array([[  1,  22,  21,   1,   1],\n",
       "       [  0, 194, 169,   1,   0],\n",
       "       [  1, 109, 408,  32,   0],\n",
       "       [  0,  11, 162,  47,   0],\n",
       "       [  0,   1,  29,  15,   0]], dtype=int64)"
      ]
     },
     "execution_count": 82,
     "metadata": {},
     "output_type": "execute_result"
    }
   ],
   "source": [
    "confusion_matrix(ywhites4_tes, whites4Logit.predict(Xwhites4_tes_scaled))"
   ]
  },
  {
   "cell_type": "code",
   "execution_count": 87,
   "id": "9dbf6ae5",
   "metadata": {},
   "outputs": [
    {
     "name": "stdout",
     "output_type": "stream",
     "text": [
      "c=0.01 train score:  0.5415191941192485\n",
      "c=0.01 test score:  0.5248979591836734\n",
      "c=0.01 confusion:\n",
      " [[  0  23  20   3   0]\n",
      " [  0 181 183   0   0]\n",
      " [  0 104 426  20   0]\n",
      " [  0  11 173  36   0]\n",
      " [  0   2  28  15   0]]\n",
      "c=0.1 train score:  0.5505036754696433\n",
      "c=0.1 test score:  0.5265306122448979\n",
      "c=0.1 confusion:\n",
      " [[  1  22  21   1   1]\n",
      " [  0 189 174   1   0]\n",
      " [  1 107 410  32   0]\n",
      " [  0  11 164  45   0]\n",
      " [  0   2  28  15   0]]\n",
      "c=0.001 train score:  0.5085760958344677\n",
      "c=0.001 test score:  0.4840816326530612\n",
      "c=0.001 confusion:\n",
      " [[  0  17  28   1   0]\n",
      " [  0 118 246   0   0]\n",
      " [  0  75 474   1   0]\n",
      " [  0   9 210   1   0]\n",
      " [  0   1  42   2   0]]\n",
      "c=0.5 train score:  0.5491423904165532\n",
      "c=0.5 test score:  0.5314285714285715\n",
      "c=0.5 confusion:\n",
      " [[  1  22  21   1   1]\n",
      " [  0 194 169   1   0]\n",
      " [  1 109 410  30   0]\n",
      " [  0  11 163  46   0]\n",
      " [  0   1  29  15   0]]\n",
      "no pen train score:  0.5496869044377892\n",
      "no pen test score:  0.5289795918367347\n",
      "no pen confusion:\n",
      " [[  1  22  21   1   1]\n",
      " [  1 193 169   1   0]\n",
      " [  1 109 407  33   0]\n",
      " [  0  11 162  47   0]\n",
      " [  0   1  28  16   0]]\n",
      "c=2.0 train score:  0.5505036754696433\n",
      "c=2.0 test score:  0.529795918367347\n",
      "c=2.0 confusion:\n",
      " [[  1  22  21   1   1]\n",
      " [  0 194 169   1   0]\n",
      " [  1 109 406  34   0]\n",
      " [  0  11 161  48   0]\n",
      " [  0   1  29  15   0]]\n"
     ]
    }
   ],
   "source": [
    "# try new models on whites4 with diff c values\n",
    "\n",
    "# logit, multinomial again, C=0.01 (default l2 penalty)\n",
    "whites4LogitC001 = LogisticRegression(solver='lbfgs', random_state=23, multi_class='multinomial', C=0.01)\n",
    "# fit the logit model to training data\n",
    "whites4LogitC001.fit(Xwhites4_tr_scaled, ywhites4_tr)\n",
    "print(\"c=0.01 train score: \", whites4LogitC001.score(Xwhites4_tr_scaled, ywhites4_tr))\n",
    "print(\"c=0.01 test score: \", whites4LogitC001.score(Xwhites4_tes_scaled, ywhites4_tes))\n",
    "print(\"c=0.01 confusion:\\n\", confusion_matrix(ywhites4_tes, whites4LogitC001.predict(Xwhites4_tes_scaled)))\n",
    "\n",
    "# logit, multinomial again, C=0.1\n",
    "whites4LogitC01 = LogisticRegression(solver='lbfgs', random_state=23, multi_class='multinomial', C=0.1)\n",
    "# fit the logit model to training data\n",
    "whites4LogitC01.fit(Xwhites4_tr_scaled, ywhites4_tr)\n",
    "print(\"c=0.1 train score: \", whites4LogitC01.score(Xwhites4_tr_scaled, ywhites4_tr))\n",
    "print(\"c=0.1 test score: \", whites4LogitC01.score(Xwhites4_tes_scaled, ywhites4_tes))\n",
    "print(\"c=0.1 confusion:\\n\", confusion_matrix(ywhites4_tes, whites4LogitC01.predict(Xwhites4_tes_scaled)))\n",
    "\n",
    "\n",
    "# logit, multinomial again, C=0.001\n",
    "whites4LogitC0001 = LogisticRegression(solver='lbfgs', random_state=23, multi_class='multinomial', C=0.001)\n",
    "# fit the logit model to training data\n",
    "whites4LogitC0001.fit(Xwhites4_tr_scaled, ywhites4_tr)\n",
    "print(\"c=0.001 train score: \", whites4LogitC0001.score(Xwhites4_tr_scaled, ywhites4_tr))\n",
    "print(\"c=0.001 test score: \", whites4LogitC0001.score(Xwhites4_tes_scaled, ywhites4_tes))\n",
    "print(\"c=0.001 confusion:\\n\", confusion_matrix(ywhites4_tes, whites4LogitC0001.predict(Xwhites4_tes_scaled)))\n",
    "\n",
    "# logit, multinomial again, C=0.5\n",
    "whites4LogitC05 = LogisticRegression(solver='lbfgs', random_state=23, multi_class='multinomial', C=0.5)\n",
    "# fit the logit model to training data\n",
    "whites4LogitC05.fit(Xwhites4_tr_scaled, ywhites4_tr)\n",
    "print(\"c=0.5 train score: \", whites4LogitC05.score(Xwhites4_tr_scaled, ywhites4_tr))\n",
    "print(\"c=0.5 test score: \", whites4LogitC05.score(Xwhites4_tes_scaled, ywhites4_tes))\n",
    "print(\"c=0.5 confusion:\\n\", confusion_matrix(ywhites4_tes, whites4LogitC05.predict(Xwhites4_tes_scaled)))\n",
    "\n",
    "\n",
    "# logit, multinomial again, no penalty\n",
    "whites4Logitnopen = LogisticRegression(solver='lbfgs', random_state=23, multi_class='multinomial', penalty='none')\n",
    "# fit the logit model to training data\n",
    "whites4Logitnopen.fit(Xwhites4_tr_scaled, ywhites4_tr)\n",
    "print(\"no pen train score: \", whites4Logitnopen.score(Xwhites4_tr_scaled, ywhites4_tr))\n",
    "print(\"no pen test score: \", whites4Logitnopen.score(Xwhites4_tes_scaled, ywhites4_tes))\n",
    "print(\"no pen confusion:\\n\", confusion_matrix(ywhites4_tes, whites4Logitnopen.predict(Xwhites4_tes_scaled)))\n",
    "\n",
    "# logit, multinomial again, C=2.0\n",
    "whites4LogitC20 = LogisticRegression(solver='lbfgs', random_state=23, multi_class='multinomial', C=2.0)\n",
    "# fit the logit model to training data\n",
    "whites4LogitC20.fit(Xwhites4_tr_scaled, ywhites4_tr)\n",
    "print(\"c=2.0 train score: \", whites4LogitC20.score(Xwhites4_tr_scaled, ywhites4_tr))\n",
    "print(\"c=2.0 test score: \", whites4LogitC20.score(Xwhites4_tes_scaled, ywhites4_tes))\n",
    "print(\"c=2.0 confusion:\\n\", confusion_matrix(ywhites4_tes, whites4LogitC20.predict(Xwhites4_tes_scaled)))\n"
   ]
  },
  {
   "cell_type": "code",
   "execution_count": null,
   "id": "bcaf40ec",
   "metadata": {},
   "outputs": [],
   "source": []
  }
 ],
 "metadata": {
  "kernelspec": {
   "display_name": "mlenv",
   "language": "python",
   "name": "mlenv"
  },
  "language_info": {
   "codemirror_mode": {
    "name": "ipython",
    "version": 3
   },
   "file_extension": ".py",
   "mimetype": "text/x-python",
   "name": "python",
   "nbconvert_exporter": "python",
   "pygments_lexer": "ipython3",
   "version": "3.7.15"
  }
 },
 "nbformat": 4,
 "nbformat_minor": 5
}
