{
 "cells": [
  {
   "cell_type": "code",
   "execution_count": 1,
   "id": "2dfed280",
   "metadata": {},
   "outputs": [],
   "source": [
    "import pandas as pd\n",
    "import numpy as np\n",
    "from matplotlib import pyplot as plt\n",
    "from sklearn.preprocessing import StandardScaler\n",
    "from sklearn.cluster import KMeans\n",
    "from sklearn.metrics import confusion_matrix, ConfusionMatrixDisplay\n",
    "impo"
   ]
  },
  {
   "cell_type": "code",
   "execution_count": 2,
   "id": "62f3812d",
   "metadata": {},
   "outputs": [],
   "source": [
    "# import red wine csv\n",
    "reds = pd.read_csv(\"winequality-red.csv\", delimiter=';')"
   ]
  },
  {
   "cell_type": "code",
   "execution_count": 3,
   "id": "3805eb76",
   "metadata": {},
   "outputs": [],
   "source": [
    "# import white wine csv\n",
    "whites = pd.read_csv(\"winequality-white.csv\", delimiter=';')"
   ]
  },
  {
   "cell_type": "code",
   "execution_count": 4,
   "id": "b943bac1",
   "metadata": {},
   "outputs": [],
   "source": [
    "# add 1 designation to reds\n",
    "# this will be detached before clustering, but added now for simplicity\n",
    "# entire new column \"type\" will be filled with 1\n",
    "reds[\"type\"] = 1\n",
    "\n",
    "# add 0 designation to whites\n",
    "# this will be detached before clustering, but added now for simplicity\n",
    "# entire new column \"type\" will be filled with 0\n",
    "whites[\"type\"] = 0"
   ]
  },
  {
   "cell_type": "code",
   "execution_count": 5,
   "id": "850ddc7a",
   "metadata": {},
   "outputs": [],
   "source": [
    "# drop quality columns from main DFs into new DFs\n",
    "reds_noqual = reds.drop(columns=[\"quality\"])\n",
    "whites_noqual = whites.drop(columns=[\"quality\"])"
   ]
  },
  {
   "cell_type": "code",
   "execution_count": 6,
   "id": "2ce5f5ff",
   "metadata": {},
   "outputs": [],
   "source": [
    "# combine the two dataframes into a single one\n",
    "# concat along axis so more rows are added, keeping columns the same\n",
    "\n",
    "combined_withtypes = pd.concat([reds_noqual, whites_noqual])\n",
    "\n",
    "# reset index values\n",
    "combined_withtypes.reset_index(inplace=True, drop=True)"
   ]
  },
  {
   "cell_type": "code",
   "execution_count": 7,
   "id": "c1c81416",
   "metadata": {},
   "outputs": [],
   "source": [
    "# split off type column since we don't want it in the clustering.\n",
    "combined_types = combined_withtypes[[\"type\"]].copy()\n",
    "\n",
    "combined_notypes = combined_withtypes.drop(columns=['type'])"
   ]
  },
  {
   "cell_type": "code",
   "execution_count": 8,
   "id": "7674804b",
   "metadata": {},
   "outputs": [],
   "source": [
    "# use a standardscaler\n",
    "\n",
    "combined_standscaled = StandardScaler().fit_transform(combined_notypes)"
   ]
  },
  {
   "cell_type": "code",
   "execution_count": 9,
   "id": "8d77f6fd",
   "metadata": {},
   "outputs": [],
   "source": [
    "# initialize KMeans models\n",
    "# since we're predicting red vs white scaling, we want n_clusters=2\n",
    "standscalKMeans = KMeans(n_clusters=2, random_state=5)"
   ]
  },
  {
   "cell_type": "code",
   "execution_count": 10,
   "id": "7d7aac89",
   "metadata": {},
   "outputs": [
    {
     "data": {
      "text/plain": [
       "KMeans(n_clusters=2, random_state=5)"
      ]
     },
     "execution_count": 10,
     "metadata": {},
     "output_type": "execute_result"
    }
   ],
   "source": [
    "# fit KMeans model\n",
    "\n",
    "standscalKMeans.fit(combined_standscaled)"
   ]
  },
  {
   "cell_type": "code",
   "execution_count": 11,
   "id": "0ccc815b",
   "metadata": {},
   "outputs": [],
   "source": [
    "# make predictions from KMeans fit\n",
    "\n",
    "standscalPreds = standscalKMeans.predict(combined_standscaled)"
   ]
  },
  {
   "cell_type": "code",
   "execution_count": 12,
   "id": "38d78bc2",
   "metadata": {},
   "outputs": [],
   "source": [
    "# add the predictions to the combined_withtypes dataframe\n",
    "combined_withtypes[\"StandScalePreds\"] = standscalPreds"
   ]
  },
  {
   "cell_type": "code",
   "execution_count": 13,
   "id": "c38fe039",
   "metadata": {},
   "outputs": [
    {
     "data": {
      "text/plain": [
       "type  StandScalePreds\n",
       "0     0                  4830\n",
       "1     1                  1575\n",
       "0     1                    68\n",
       "1     0                    24\n",
       "dtype: int64"
      ]
     },
     "execution_count": 13,
     "metadata": {},
     "output_type": "execute_result"
    }
   ],
   "source": [
    "# value_counts() on two columns is effectively a confusion matrix\n",
    "\n",
    "combined_withtypes[[\"type\", \"StandScalePreds\"]].value_counts()\n",
    "\n",
    "# whites predicted as class 0: 4830 out of 4898 = 98.6%\n",
    "# whites predicted as class 1: 68 out of 4898 = 1.4%\n",
    "\n",
    "# reds predicted as class 1: 1575 out of 1599 = 98.5%\n",
    "# reds predicted as class 0 : 24 out of 1599 = 1.5%"
   ]
  },
  {
   "cell_type": "code",
   "execution_count": 14,
   "id": "8da1ecff",
   "metadata": {},
   "outputs": [
    {
     "ename": "NameError",
     "evalue": "name 'sns' is not defined",
     "output_type": "error",
     "traceback": [
      "\u001b[1;31m---------------------------------------------------------------------------\u001b[0m",
      "\u001b[1;31mNameError\u001b[0m                                 Traceback (most recent call last)",
      "\u001b[1;32m~\\AppData\\Local\\Temp\\ipykernel_14568\\1502797810.py\u001b[0m in \u001b[0;36m<module>\u001b[1;34m\u001b[0m\n\u001b[0;32m      1\u001b[0m dis=ConfusionMatrixDisplay(confusion_matrix(combined_withtypes['type'], combined_withtypes['StandScalePreds']),\n\u001b[0;32m      2\u001b[0m                            display_labels=['White', 'Red'])\n\u001b[1;32m----> 3\u001b[1;33m \u001b[0mdis\u001b[0m\u001b[1;33m.\u001b[0m\u001b[0mplot\u001b[0m\u001b[1;33m(\u001b[0m\u001b[0mcmap\u001b[0m \u001b[1;33m=\u001b[0m \u001b[0msns\u001b[0m\u001b[1;33m.\u001b[0m\u001b[0mcubehelix_palette\u001b[0m\u001b[1;33m(\u001b[0m\u001b[0mlight\u001b[0m\u001b[1;33m=\u001b[0m\u001b[1;36m1\u001b[0m\u001b[1;33m,\u001b[0m \u001b[0mas_cmap\u001b[0m\u001b[1;33m=\u001b[0m\u001b[1;32mTrue\u001b[0m\u001b[1;33m)\u001b[0m\u001b[1;33m)\u001b[0m\u001b[1;33m\u001b[0m\u001b[1;33m\u001b[0m\u001b[0m\n\u001b[0m\u001b[0;32m      4\u001b[0m \u001b[0mplt\u001b[0m\u001b[1;33m.\u001b[0m\u001b[0mtitle\u001b[0m\u001b[1;33m(\u001b[0m\u001b[1;34m\"Unsupervised KMeans Confusion Matrix\"\u001b[0m\u001b[1;33m)\u001b[0m\u001b[1;33m\u001b[0m\u001b[1;33m\u001b[0m\u001b[0m\n\u001b[0;32m      5\u001b[0m \u001b[0mplt\u001b[0m\u001b[1;33m.\u001b[0m\u001b[0msavefig\u001b[0m\u001b[1;33m(\u001b[0m\u001b[1;34m\"static/images/kmeans_confusion_matrix.png\"\u001b[0m\u001b[1;33m,\u001b[0m \u001b[0mbbox_inches\u001b[0m\u001b[1;33m=\u001b[0m\u001b[1;34m'tight'\u001b[0m\u001b[1;33m)\u001b[0m\u001b[1;33m\u001b[0m\u001b[1;33m\u001b[0m\u001b[0m\n",
      "\u001b[1;31mNameError\u001b[0m: name 'sns' is not defined"
     ]
    }
   ],
   "source": [
    "dis=ConfusionMatrixDisplay(confusion_matrix(combined_withtypes['type'], combined_withtypes['StandScalePreds']),\n",
    "                           display_labels=['White', 'Red'])\n",
    "dis.plot(cmap = sns.cubehelix_palette(light=1, as_cmap=True))\n",
    "plt.title(\"Unsupervised KMeans Confusion Matrix\")\n",
    "plt.savefig(\"static/images/kmeans_confusion_matrix.png\", bbox_inches='tight')\n",
    "plt.show()"
   ]
  },
  {
   "cell_type": "code",
   "execution_count": null,
   "id": "728e0342",
   "metadata": {},
   "outputs": [],
   "source": [
    "# for plotting with matplotlib, need to split up dataframe\n",
    "\n",
    "# correctly guessed reds\n",
    "trueReds = combined_withtypes[((combined_withtypes['type']==1) & (combined_withtypes[\"StandScalePreds\"]==1))].copy()\n",
    "\n",
    "# correctly guessed whites\n",
    "trueWhites = combined_withtypes[((combined_withtypes['type']==0) & (combined_withtypes[\"StandScalePreds\"]==0))].copy()\n",
    "\n",
    "# white wines guessed reds\n",
    "falseReds = combined_withtypes[((combined_withtypes['type']==0) & (combined_withtypes[\"StandScalePreds\"]==1))].copy()\n",
    "\n",
    "# red wines guessed whites\n",
    "falseWhites = combined_withtypes[((combined_withtypes['type']==1) & (combined_withtypes[\"StandScalePreds\"]==0))].copy()\n"
   ]
  },
  {
   "cell_type": "code",
   "execution_count": null,
   "id": "0fb3f12a",
   "metadata": {},
   "outputs": [],
   "source": [
    "# total sulfur dioxide vs chlorides show separation\n",
    "\n",
    "# correct combos: r, 1 = purple circle and w, 0 = orange diamond\n",
    "\n",
    "# plot whites first since there are more and reds will be on top of them\n",
    "\n",
    "plt.scatter(trueWhites['total sulfur dioxide'], trueWhites['chlorides'],\n",
    "            color='orange', marker='d', label='True Whites', alpha=0.5)\n",
    "plt.scatter(trueReds['total sulfur dioxide'], trueReds['chlorides'],\n",
    "            color='purple', marker='.', label=\"True Reds\", alpha=0.5)\n",
    "plt.scatter(falseWhites['total sulfur dioxide'], falseWhites['chlorides'],\n",
    "            color='purple', marker='d', label='False Whites', edgecolors='k')\n",
    "plt.scatter(falseReds['total sulfur dioxide'], falseReds['chlorides'],\n",
    "            color='orange', marker='.', label='False Reds', edgecolors='k')\n",
    "plt.xscale('log')\n",
    "plt.yscale('log')\n",
    "plt.ylabel(\"chlorides\")\n",
    "plt.xlabel(\"total sulfur dioxide\")\n",
    "plt.legend()\n",
    "plt.show()"
   ]
  },
  {
   "cell_type": "code",
   "execution_count": null,
   "id": "82f7917b",
   "metadata": {},
   "outputs": [],
   "source": [
    "# total sulfur dioxide vs volatile acidity also show separation\n",
    "\n",
    "# correct combos: r, 1 = purple circle and w, 0 = orange diamond\n",
    "\n",
    "plt.scatter(trueWhites['total sulfur dioxide'], trueWhites['volatile acidity'],\n",
    "            color='orange', marker='d', label='True Whites', alpha=0.5)\n",
    "plt.scatter(trueReds['total sulfur dioxide'], trueReds['volatile acidity'],\n",
    "            color='purple', marker='.', label=\"True Reds\", alpha=0.5)\n",
    "plt.scatter(falseWhites['total sulfur dioxide'], falseWhites['volatile acidity'],\n",
    "            color='purple', marker='d', label='False Whites', edgecolors='k')\n",
    "plt.scatter(falseReds['total sulfur dioxide'], falseReds['volatile acidity'],\n",
    "            color='orange', marker='.', label='False Reds', edgecolors='k')\n",
    "plt.xscale('log')\n",
    "plt.yscale('log')\n",
    "plt.ylabel(\"volatile acidity\")\n",
    "plt.xlabel(\"total sulfur dioxide\")\n",
    "plt.legend()\n",
    "plt.show()"
   ]
  },
  {
   "cell_type": "code",
   "execution_count": null,
   "id": "35e77047",
   "metadata": {},
   "outputs": [],
   "source": [
    "# chlorides vs volatile acidity also show separation\n",
    "\n",
    "# correct combos: r, 1 = purple circle and w, 0 = orange diamond\n",
    "\n",
    "plt.scatter(trueWhites['volatile acidity'], trueWhites['chlorides'], \n",
    "            color='orange', marker='d', label='True Whites', alpha=0.5)\n",
    "plt.scatter(trueReds['volatile acidity'], trueReds['chlorides'], \n",
    "            color='purple', marker='.', label=\"True Reds\", alpha=0.5)\n",
    "plt.scatter(falseWhites['volatile acidity'], falseWhites['chlorides'], \n",
    "            color='purple', marker='d', label='False Whites', edgecolors='k')\n",
    "plt.scatter(falseReds['volatile acidity'], falseReds['chlorides'], \n",
    "            color='orange', marker='.', label='False Reds', edgecolors='k')\n",
    "plt.xscale('log')\n",
    "plt.yscale('log')\n",
    "plt.ylabel(\"chlorides\")\n",
    "plt.xlabel(\"volatile acidity\")\n",
    "plt.legend()\n",
    "plt.show()"
   ]
  },
  {
   "cell_type": "code",
   "execution_count": null,
   "id": "36c60d60",
   "metadata": {},
   "outputs": [],
   "source": [
    "# fixed acidity and volatile acidity\n",
    "\n",
    "# correct combos: r, 1 = purple circle and w, 0 = orange diamond\n",
    "\n",
    "plt.scatter(trueWhites['fixed acidity'], trueWhites['volatile acidity'],\n",
    "            color='orange', marker='d', label='True Whites', alpha=0.5)\n",
    "plt.scatter(trueReds['fixed acidity'], trueReds['volatile acidity'],\n",
    "            color='purple', marker='.', label=\"True Reds\", alpha=0.5)\n",
    "plt.scatter(falseWhites['fixed acidity'], falseWhites['volatile acidity'],\n",
    "            color='purple', marker='d', label='False Whites', edgecolors='k')\n",
    "plt.scatter(falseReds['fixed acidity'], falseReds['volatile acidity'],\n",
    "            color='orange', marker='.', label='False Reds', edgecolors='k')\n",
    "plt.xscale('log')\n",
    "plt.yscale('log')\n",
    "plt.ylabel(\"volatile acidity\")\n",
    "plt.xlabel(\"fixed acidity\")\n",
    "plt.legend()\n",
    "plt.show()"
   ]
  },
  {
   "cell_type": "code",
   "execution_count": null,
   "id": "27093322",
   "metadata": {},
   "outputs": [],
   "source": [
    "# fixed acidity and sulphates\n",
    "\n",
    "# correct combos: r, 1 = purple circle and w, 0 = orange diamond\n",
    "\n",
    "plt.scatter(trueWhites['fixed acidity'], trueWhites['sulphates'],\n",
    "            color='orange', marker='d', label='True Whites', alpha=0.5)\n",
    "plt.scatter(trueReds['fixed acidity'], trueReds['sulphates'],\n",
    "            color='purple', marker='.', label=\"True Reds\", alpha=0.5)\n",
    "plt.scatter(falseWhites['fixed acidity'], falseWhites['sulphates'],\n",
    "            color='purple', marker='d', label='False Whites', edgecolors='k')\n",
    "plt.scatter(falseReds['fixed acidity'], falseReds['sulphates'],\n",
    "            color='orange', marker='.', label='False Reds', edgecolors='k')\n",
    "plt.xscale('log')\n",
    "plt.yscale('log')\n",
    "plt.ylabel(\"sulphates\")\n",
    "plt.xlabel(\"fixed acidity\")\n",
    "plt.legend()"
   ]
  },
  {
   "cell_type": "code",
   "execution_count": null,
   "id": "8d232981",
   "metadata": {},
   "outputs": [],
   "source": [
    "# can make 2x2 single large plot of various plots if desired\n",
    "\n",
    "# too crowded, do not use\n",
    "\n",
    "# fig, axs = plt.subplots(2,2, figsize=(15,12))\n",
    "\n",
    "# axs[0,0].scatter(trueWhites['total sulfur dioxide'], trueWhites['chlorides'],\n",
    "#             color='orange', marker='d', label='True Whites', alpha=0.5)\n",
    "# axs[0,0].scatter(trueReds['total sulfur dioxide'], trueReds['chlorides'],\n",
    "#             color='purple', marker='.', label=\"True Reds\", alpha=0.5)\n",
    "# axs[0,0].scatter(falseWhites['total sulfur dioxide'], falseWhites['chlorides'],\n",
    "#             color='purple', marker='d', label='False Whites', edgecolors='k')\n",
    "# axs[0,0].scatter(falseReds['total sulfur dioxide'], falseReds['chlorides'],\n",
    "#             color='orange', marker='.', label='False Reds', edgecolors='k')\n",
    "# axs[0,0].set_xscale('log')\n",
    "# axs[0,0].set_yscale('log')\n",
    "# axs[0,0].set_ylabel(\"chlorides\")\n",
    "# axs[0,0].set_xlabel(\"total sulfur dioxide\")\n",
    "\n",
    "# axs[1,0].scatter(trueWhites['total sulfur dioxide'], trueWhites['volatile acidity'],\n",
    "#             color='orange', marker='d', label='True Whites', alpha=0.5)\n",
    "# axs[1,0].scatter(trueReds['total sulfur dioxide'], trueReds['volatile acidity'],\n",
    "#             color='purple', marker='.', label=\"True Reds\", alpha=0.5)\n",
    "# axs[1,0].scatter(falseWhites['total sulfur dioxide'], falseWhites['volatile acidity'],\n",
    "#             color='purple', marker='d', label='False Whites', edgecolors='k')\n",
    "# axs[1,0].scatter(falseReds['total sulfur dioxide'], falseReds['volatile acidity'],\n",
    "#             color='orange', marker='.', label='False Reds', edgecolors='k')\n",
    "# axs[1,0].set_xscale('log')\n",
    "# axs[1,0].set_yscale('log')\n",
    "# axs[1,0].set_ylabel(\"volatile acidity\")\n",
    "# axs[1,0].set_xlabel(\"total sulfur dioxide\")\n",
    "\n",
    "# axs[0,1].scatter(trueWhites['fixed acidity'], trueWhites['sulphates'],\n",
    "#             color='orange', marker='d', label='True Whites', alpha=0.5)\n",
    "# axs[0,1].scatter(trueReds['fixed acidity'], trueReds['sulphates'],\n",
    "#             color='purple', marker='.', label=\"True Reds\", alpha=0.5)\n",
    "# axs[0,1].scatter(falseWhites['fixed acidity'], falseWhites['sulphates'],\n",
    "#             color='purple', marker='d', label='False Whites', edgecolors='k')\n",
    "# axs[0,1].scatter(falseReds['fixed acidity'], falseReds['sulphates'],\n",
    "#             color='orange', marker='.', label='False Reds', edgecolors='k')\n",
    "# axs[0,1].set_xscale('log')\n",
    "# axs[0,1].set_yscale('log')\n",
    "# axs[0,1].set_ylabel(\"sulphates\")\n",
    "# axs[0,1].set_xlabel(\"fixed acidity\")\n",
    "\n",
    "\n",
    "# axs[1,1].scatter(trueWhites['fixed acidity'], trueWhites[\"volatile acidity\"],\n",
    "#             color='orange', marker='d', label='True Whites', alpha=0.5)\n",
    "# axs[1,1].scatter(trueReds['fixed acidity'], trueReds[\"volatile acidity\"],\n",
    "#             color='purple', marker='.', label=\"True Reds\", alpha=0.5)\n",
    "# axs[1,1].scatter(falseWhites['fixed acidity'], falseWhites[\"volatile acidity\"],\n",
    "#             color='purple', marker='d', label='False Whites', edgecolors='k')\n",
    "# axs[1,1].scatter(falseReds['fixed acidity'], falseReds[\"volatile acidity\"],\n",
    "#             color='orange', marker='.', label='False Reds', edgecolors='k')\n",
    "# axs[1,1].set_xscale('log')\n",
    "# axs[1,1].set_yscale('log')\n",
    "# axs[1,1].set_ylabel(\"volatile acidity\")\n",
    "# axs[1,1].set_xlabel(\"fixed acidity\")\n",
    "\n",
    "\n",
    "# axs[0,1].legend()\n",
    "# #fig.legend()\n",
    "# fig.suptitle(\"Unsupervised KMeans Clustering\")"
   ]
  },
  {
   "cell_type": "code",
   "execution_count": null,
   "id": "a3b0c6cf",
   "metadata": {},
   "outputs": [],
   "source": [
    "# alcohol vs density does not show separation, do not use\n",
    "\n",
    "# correct combos: r, 1 = purple circle and w, 0 = orange diamond\n",
    "\n",
    "# plt.scatter(trueWhites['density'], trueWhites['alcohol'],\n",
    "#             color='orange', marker='d', label='True Whites', alpha=0.5)\n",
    "# plt.scatter(trueReds['density'], trueReds['alcohol'],\n",
    "#             color='purple', marker='.', label=\"True Reds\", alpha=0.5)\n",
    "# plt.scatter(falseWhites['density'], falseWhites['alcohol'],\n",
    "#             color='purple', marker='d', label='False Whites', edgecolors='k')\n",
    "# plt.scatter(falseReds['density'], falseReds['alcohol'],\n",
    "#             color='orange', marker='.', label='False Reds', edgecolors='k')\n",
    "# #plt.xscale('log')\n",
    "# #plt.yscale('log')\n",
    "# plt.ylabel(\"alcohol\")\n",
    "# plt.xlabel(\"density\")\n",
    "# plt.legend()"
   ]
  },
  {
   "cell_type": "code",
   "execution_count": null,
   "id": "1cbf0fda",
   "metadata": {},
   "outputs": [],
   "source": [
    "# can do 2x1 plots to look nice\n",
    "\n",
    "# chlorides vs total sulfur dioxide and\n",
    "# volatile acidity vs total sulfur dioxide\n",
    "\n",
    "fig, axs = plt.subplots(1,2, figsize=(15,6))\n",
    "\n",
    "axs[0].scatter(trueWhites['total sulfur dioxide'], trueWhites['chlorides'],\n",
    "            color='orange', marker='d', label='True Whites', alpha=0.5)\n",
    "axs[0].scatter(trueReds['total sulfur dioxide'], trueReds['chlorides'],\n",
    "            color='purple', marker='.', label=\"True Reds\", alpha=0.5)\n",
    "axs[0].scatter(falseWhites['total sulfur dioxide'], falseWhites['chlorides'],\n",
    "            color='purple', marker='d', label='False Whites', edgecolors='k')\n",
    "axs[0].scatter(falseReds['total sulfur dioxide'], falseReds['chlorides'],\n",
    "            color='orange', marker='.', label='False Reds', edgecolors='k')\n",
    "axs[0].set_xscale('log')\n",
    "axs[0].set_yscale('log')\n",
    "axs[0].set_ylabel('Chlorides')\n",
    "axs[0].set_xlabel('Total Sulfur Dioxide')\n",
    "\n",
    "\n",
    "axs[1].scatter(trueWhites['total sulfur dioxide'], trueWhites['volatile acidity'],\n",
    "            color='orange', marker='d', label='True Whites', alpha=0.5)\n",
    "axs[1].scatter(trueReds['total sulfur dioxide'], trueReds['volatile acidity'],\n",
    "            color='purple', marker='.', label=\"True Reds\", alpha=0.5)\n",
    "axs[1].scatter(falseWhites['total sulfur dioxide'], falseWhites['volatile acidity'],\n",
    "            color='purple', marker='d', label='False Whites', edgecolors='k')\n",
    "axs[1].scatter(falseReds['total sulfur dioxide'], falseReds['volatile acidity'],\n",
    "            color='orange', marker='.', label='False Reds', edgecolors='k')\n",
    "axs[1].set_xscale('log')\n",
    "axs[1].set_yscale('log')\n",
    "axs[1].set_ylabel('Volatile Acidity')\n",
    "axs[1].set_xlabel('Total Sulfur Dioxide')\n",
    "\n",
    "\n",
    "axs[0].legend(loc=\"upper right\", bbox_to_anchor=(1.12, 0.95), framealpha=1)\n",
    "#fig.suptitle(\"Unsupervised KMeans Clustering Scatter Plots 1\")\n",
    "fig.savefig(\"static/images/kmeans_scatter_1.png\", bbox_inches='tight', pad_inches=0.23)\n",
    "plt.show()"
   ]
  },
  {
   "cell_type": "code",
   "execution_count": null,
   "id": "1d8e43ef",
   "metadata": {},
   "outputs": [],
   "source": [
    "# can do 2x1 plots to look nice\n",
    "\n",
    "# chlorides vs fixed acidity and\n",
    "# sulphates vs fixed acidity\n",
    "\n",
    "fig, axs = plt.subplots(1,2, figsize=(15,6))\n",
    "\n",
    "axs[0].scatter(trueWhites['fixed acidity'], trueWhites['chlorides'],\n",
    "            color='orange', marker='d', label='True Whites', alpha=0.5)\n",
    "axs[0].scatter(trueReds['fixed acidity'], trueReds['chlorides'],\n",
    "            color='purple', marker='.', label=\"True Reds\", alpha=0.5)\n",
    "axs[0].scatter(falseWhites['fixed acidity'], falseWhites['chlorides'],\n",
    "            color='purple', marker='d', label='False Whites', edgecolors='k')\n",
    "axs[0].scatter(falseReds['fixed acidity'], falseReds['chlorides'],\n",
    "            color='orange', marker='.', label='False Reds', edgecolors='k')\n",
    "axs[0].set_xscale('log')\n",
    "axs[0].set_yscale('log')\n",
    "axs[0].set_ylabel('Chlorides')\n",
    "axs[0].set_xlabel('Fixed Acidity')\n",
    "\n",
    "\n",
    "axs[1].scatter(trueWhites['fixed acidity'], trueWhites['sulphates'],\n",
    "            color='orange', marker='d', label='True Whites', alpha=0.5)\n",
    "axs[1].scatter(trueReds['fixed acidity'], trueReds['sulphates'],\n",
    "            color='purple', marker='.', label=\"True Reds\", alpha=0.5)\n",
    "axs[1].scatter(falseWhites['fixed acidity'], falseWhites['sulphates'],\n",
    "            color='purple', marker='d', label='False Whites', edgecolors='k')\n",
    "axs[1].scatter(falseReds['fixed acidity'], falseReds['sulphates'],\n",
    "            color='orange', marker='.', label='False Reds', edgecolors='k')\n",
    "axs[1].set_xscale('log')\n",
    "axs[1].set_yscale('log')\n",
    "axs[1].set_ylabel('Sulphates')\n",
    "axs[1].set_xlabel('Fixed Acidity')\n",
    "\n",
    "\n",
    "\n",
    "axs[0].legend(loc=\"upper right\", bbox_to_anchor=(1.12, 0.95), framealpha=1)\n",
    "#fig.suptitle(\"Unsupervised KMeans Clustering Scatter Plots 2\")\n",
    "fig.savefig(\"static/images/kmeans_scatter_2.png\", bbox_inches='tight', pad_inches=0.23)\n",
    "plt.show()"
   ]
  },
  {
   "cell_type": "code",
   "execution_count": null,
   "id": "b318005f",
   "metadata": {},
   "outputs": [],
   "source": [
    "# can do 2x1 plots to look nice\n",
    "\n",
    "# pH vs chlorides and\n",
    "# sulphates vs fixed acidity\n",
    "\n",
    "fig, axs = plt.subplots(1,2, figsize=(15,6))\n",
    "\n",
    "axs[0].scatter(trueWhites['chlorides'], trueWhites['pH'],\n",
    "            color='orange', marker='d', label='True Whites', alpha=0.5)\n",
    "axs[0].scatter(trueReds['chlorides'], trueReds['pH'],\n",
    "            color='purple', marker='.', label=\"True Reds\", alpha=0.5)\n",
    "axs[0].scatter(falseWhites['chlorides'], falseWhites['pH'],\n",
    "            color='purple', marker='d', label='False Whites', edgecolors='k')\n",
    "axs[0].scatter(falseReds['chlorides'], falseReds['pH'],\n",
    "            color='orange', marker='.', label='False Reds', edgecolors='k')\n",
    "axs[0].set_xscale('log')\n",
    "axs[0].set_yscale('log')\n",
    "axs[0].set_ylabel('pH')\n",
    "axs[0].set_xlabel('Chlorides')\n",
    "\n",
    "\n",
    "axs[1].scatter(trueWhites['chlorides'], trueWhites['residual sugar'],\n",
    "            color='orange', marker='d', label='True Whites', alpha=0.5)\n",
    "axs[1].scatter(trueReds['chlorides'], trueReds['residual sugar'],\n",
    "            color='purple', marker='.', label=\"True Reds\", alpha=0.5)\n",
    "axs[1].scatter(falseWhites['chlorides'], falseWhites['residual sugar'],\n",
    "            color='purple', marker='d', label='False Whites', edgecolors='k')\n",
    "axs[1].scatter(falseReds['chlorides'], falseReds['residual sugar'],\n",
    "            color='orange', marker='.', label='False Reds', edgecolors='k')\n",
    "axs[1].set_xscale('log')\n",
    "axs[1].set_yscale('log')\n",
    "axs[1].set_ylabel('Residual Sugar')\n",
    "axs[1].set_xlabel('Chlorides')\n",
    "\n",
    "\n",
    "\n",
    "axs[0].legend(loc=\"upper right\", bbox_to_anchor=(1.12, 0.95), framealpha=1)\n",
    "#fig.suptitle(\"Unsupervised KMeans Clustering Scatter Plots 3\")\n",
    "fig.savefig(\"static/images/kmeans_scatter_3.png\", bbox_inches='tight', pad_inches=0.23)\n",
    "plt.show()"
   ]
  }
 ],
 "metadata": {
  "kernelspec": {
   "display_name": "mlenv",
   "language": "python",
   "name": "mlenv"
  },
  "language_info": {
   "codemirror_mode": {
    "name": "ipython",
    "version": 3
   },
   "file_extension": ".py",
   "mimetype": "text/x-python",
   "name": "python",
   "nbconvert_exporter": "python",
   "pygments_lexer": "ipython3",
   "version": "3.7.15"
  }
 },
 "nbformat": 4,
 "nbformat_minor": 5
}
